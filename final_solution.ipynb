{
 "cells": [
  {
   "cell_type": "code",
   "execution_count": 125,
   "id": "initial_id",
   "metadata": {
    "collapsed": true,
    "ExecuteTime": {
     "end_time": "2024-05-07T19:03:57.777834900Z",
     "start_time": "2024-05-07T19:03:57.762880900Z"
    }
   },
   "outputs": [],
   "source": [
    "from autogluon.tabular import TabularDataset, TabularPredictor\n",
    "import pandas as pd\n",
    "import numpy as np\n",
    "import re\n",
    "#删去不必要的列\n",
    "def process(df):\n",
    "    df.drop(['loan_id', 'user_id','scoring_low'], axis=1, inplace=True)\n",
    "    return df\n",
    "\n",
    "#将两个数据框丢掉各自独有的列\n",
    "def regularize(df1,df2):\n",
    "    df2.rename(columns={'is_default': 'isDefault'}, inplace=True)\n",
    "    cols = set(df1.columns) - set(df2.columns)\n",
    "    df1.drop(list(cols), axis=1, inplace=True)\n",
    "    cols = set(df2.columns) - set(df1.columns)\n",
    "    df2.drop(list(cols), axis=1, inplace=True)\n",
    "    return df1,df2\n",
    "\n",
    "#丢掉测试数据独有的\n",
    "def test_process(train_data,test_data):\n",
    "    cols = set(test_data.columns) - set(train_data.columns)\n",
    "    test_data.drop(list(cols),axis=1,inplace=True)\n",
    "    return test_data\n",
    "\n",
    "#将两个数据框按行合并\n",
    "def concat_df(df1, df2):  \n",
    "    # 检查列是否相同  \n",
    "    if set(df1.columns)==(set(df2.columns)):  \n",
    "        # 给df1添加target1列  \n",
    "        df1['target'] = 0\n",
    "        # 给df2添加target0列  \n",
    "        df2['target'] = 1\n",
    "        # 合并数据框  \n",
    "        result = pd.concat([df1, df2], ignore_index=True)  \n",
    "        return result  \n",
    "    else:  \n",
    "        # 如果列不同，返回错误  \n",
    "        print(df1.columns)\n",
    "        print(df2.columns)\n",
    "        raise ValueError(\"DataFrames have different columns.\")"
   ]
  },
  {
   "cell_type": "code",
   "execution_count": 126,
   "outputs": [],
   "source": [
    "#数据预处理\n",
    "def mean_fillna_process(df):\n",
    "    #首先判断哪些列是数值类型，这些列进行平均值填充\n",
    "    numeric_columns = df.select_dtypes(include=['number']).columns\n",
    "    # 对每个数值类型的列进行平均值填充\n",
    "    for column in numeric_columns:\n",
    "        mean_value = df[column].mean()  # 计算平均值\n",
    "        df[column].fillna(mean_value, inplace=True)  # 填充缺失值\n",
    "    #对于其他类型的列，仍然采用众数填充\n",
    "    non_numeric_columns = df.select_dtypes(exclude=['number']).columns\n",
    "    for column in non_numeric_columns:\n",
    "        mode_value = df[column].mode()[0]  # 计算众数，取第一个众数值\n",
    "        df[column].fillna(mode_value, inplace=True)  # 填充缺失值\n",
    "    return df\n",
    "\n",
    "#worker_years预处理\n",
    "def get_work_year(df):\n",
    "    col = df[\"work_year\"]\n",
    "    new_work_year = []\n",
    "    for ele in col:\n",
    "        match = re.search(r'\\S', ele)\n",
    "        if match and match.group() == \"<\":\n",
    "            new_work_year.append(0)\n",
    "        else:\n",
    "            match = re.search(r'\\d+', ele)\n",
    "            if match:\n",
    "                new_work_year.append(int(match.group()))\n",
    "            else:\n",
    "                new_work_year.append(None)  # 如果没有匹配到数字，则添加 None\n",
    "    df[\"new_work_year\"] = new_work_year\n",
    "    df.drop([\"work_year\"], axis=1, inplace=True)\n",
    "    return df\n",
    "#解析\n",
    "def create_feature_process(df):\n",
    "    #定义字典，键为12月份前三位，值从1到12\n",
    "    month_dict = {\n",
    "    \"Jan\": 1,\"Feb\": 2,\"Mar\": 3,\"Apr\": 4,\n",
    "    \"May\": 5,\"Jun\": 6,\"Jul\": 7,\"Aug\": 8,\n",
    "    \"Sep\": 9,\"Oct\": 10,\"Nov\": 11,\"Dec\": 12}\n",
    "    col=df[\"earlies_credit_mon\"]\n",
    "    col_year=[]\n",
    "    col_mon=[]\n",
    "    for col_ele in col:\n",
    "        list=col_ele.split(\"-\")\n",
    "        if list[0].isdigit():\n",
    "            col_year.append((2000+int(list[0])))\n",
    "            col_mon.append(month_dict[list[1]])\n",
    "        else:\n",
    "            col_year.append((1900+int(list[1])))\n",
    "            col_mon.append(month_dict[list[0]])\n",
    "    df[\"feature_year\"]=col_year\n",
    "    df[\"feature_month\"]=col_mon\n",
    "    df.drop([\"earlies_credit_mon\",],axis=1, inplace=True)\n",
    "    return df\n",
    "\n",
    "def create_feature_process2(df):\n",
    "    month_dict = {\n",
    "    \"Jan\": 1,\"Feb\": 2,\"Mar\": 3,\"Apr\": 4,\n",
    "    \"May\": 5,\"Jun\": 6,\"Jul\": 7,\"Aug\": 8,\n",
    "    \"Sep\": 9,\"Oct\": 10,\"Nov\": 11,\"Dec\": 12}\n",
    "    col=df[\"earlies_credit_mon\"]\n",
    "    col_year=[]\n",
    "    col_mon=[]\n",
    "    for col_ele in col:\n",
    "        list=col_ele.split(\"-\")\n",
    "        col_year.append(int(list[1]))\n",
    "        col_mon.append(month_dict[list[0]])\n",
    "    df[\"feature_year\"]=col_year\n",
    "    df[\"feature_month\"]=col_mon\n",
    "    df.drop([\"earlies_credit_mon\",],axis=1, inplace=True)\n",
    "    return df"
   ],
   "metadata": {
    "collapsed": false,
    "ExecuteTime": {
     "end_time": "2024-05-07T19:04:00.248894300Z",
     "start_time": "2024-05-07T19:04:00.226185200Z"
    }
   },
   "id": "cff09a5a52c1b10b"
  },
  {
   "cell_type": "code",
   "execution_count": 127,
   "outputs": [],
   "source": [
    "from sklearn.preprocessing import LabelEncoder\n",
    "#字段类型的转变\n",
    "transform_columns=[\"class\",\"employer_type\",\"industry\"]\n",
    "def transform_to_num(df,transform_columns):\n",
    "    for col in transform_columns:\n",
    "        #处理class类型\n",
    "        class_map={'A': 0, 'B': 1, 'C': 2, 'D': 3,\n",
    "        'E': 4, 'F': 5, 'G': 6}\n",
    "        if col==\"class\":\n",
    "            df[col] = df[col].map(class_map)\n",
    "        else:\n",
    "            df[col]=LabelEncoder().fit_transform(df[col])\n",
    "    return df\n",
    "    \n",
    "            "
   ],
   "metadata": {
    "collapsed": false,
    "ExecuteTime": {
     "end_time": "2024-05-07T19:04:03.413961100Z",
     "start_time": "2024-05-07T19:04:03.394531100Z"
    }
   },
   "id": "d5f2306b237fa5be"
  },
  {
   "cell_type": "code",
   "execution_count": 128,
   "outputs": [
    {
     "name": "stderr",
     "output_type": "stream",
     "text": [
      "Loaded data from: ./train_public.csv | Columns = 39 / 39 | Rows = 10000 -> 10000\n",
      "Loaded data from: ./train_internet.csv | Columns = 42 / 42 | Rows = 750000 -> 750000\n"
     ]
    }
   ],
   "source": [
    "public_data=process(TabularDataset('./train_public.csv'))\n",
    "internet_data=process(TabularDataset('./train_internet.csv'))"
   ],
   "metadata": {
    "collapsed": false,
    "ExecuteTime": {
     "end_time": "2024-05-07T19:04:24.616453800Z",
     "start_time": "2024-05-07T19:04:21.832258300Z"
    }
   },
   "id": "d04a61116b9b7907"
  },
  {
   "cell_type": "code",
   "execution_count": 129,
   "outputs": [
    {
     "data": {
      "text/plain": "       total_loan  year_of_loan  interest  monthly_payment class  \\\n0     31818.18182             3    11.466          1174.91     C   \n1     28000.00000             5    16.841           670.69     C   \n2     17272.72727             3     8.900           603.32     A   \n3     20000.00000             3     4.788           602.30     A   \n4     15272.72727             3    12.790           470.31     C   \n...           ...           ...       ...              ...   ...   \n9995  17727.27273             3    15.037           510.27     B   \n9996  13636.36364             3     6.534           464.95     A   \n9997  24818.18182             3    14.421           708.69     B   \n9998  20000.00000             3    18.450           727.58     D   \n9999   1000.00000             3    14.014            33.57     C   \n\n     employer_type         industry  work_year  house_exist  censor_status  \\\n0             政府机构              金融业    3 years            0              1   \n1             政府机构              金融业  10+ years            0              2   \n2             政府机构        公共服务、社会组织  10+ years            1              0   \n3            世界五百强           文化和体育业    6 years            0              1   \n4             政府机构  信息传输、软件和信息技术服务业   < 1 year            2              1   \n...            ...              ...        ...          ...            ...   \n9995          普通企业              建筑业    7 years            1              1   \n9996          政府机构         农、林、牧、渔业    2 years            1              1   \n9997          普通企业  信息传输、软件和信息技术服务业  10+ years            0              0   \n9998          政府机构         农、林、牧、渔业  10+ years            0              0   \n9999        高等教育机构  信息传输、软件和信息技术服务业    7 years            1              0   \n\n      ... policy_code    f0   f1    f2    f3    f4  early_return  \\\n0     ...           1   1.0  0.0   4.0   5.0   4.0             3   \n1     ...           1   7.0  0.0   4.0  45.0  22.0             0   \n2     ...           1   6.0  0.0   6.0  28.0  19.0             0   \n3     ...           1   5.0  0.0  10.0  15.0   9.0             0   \n4     ...           1  10.0  0.0   6.0  15.0   4.0             0   \n...   ...         ...   ...  ...   ...   ...   ...           ...   \n9995  ...           1   4.0  0.0   4.0  11.0   7.0             2   \n9996  ...           1   2.0  0.0   2.0   7.0   6.0             3   \n9997  ...           1   6.0  0.0   5.0  15.0  11.0             1   \n9998  ...           1   7.0  0.0   5.0  17.0  10.0             2   \n9999  ...           1   3.0  0.0   2.0   9.0   6.0             3   \n\n      early_return_amount  early_return_amount_3mon  isDefault  \n0                    9927                       0.0          0  \n1                       0                       0.0          0  \n2                       0                       0.0          0  \n3                       0                       0.0          0  \n4                       0                       0.0          0  \n...                   ...                       ...        ...  \n9995                 5287                       0.0          0  \n9996                 7182                       0.0          0  \n9997                 8540                    2562.0          0  \n9998                 6161                     616.1          0  \n9999                  299                      59.8          0  \n\n[10000 rows x 36 columns]",
      "text/html": "<div>\n<style scoped>\n    .dataframe tbody tr th:only-of-type {\n        vertical-align: middle;\n    }\n\n    .dataframe tbody tr th {\n        vertical-align: top;\n    }\n\n    .dataframe thead th {\n        text-align: right;\n    }\n</style>\n<table border=\"1\" class=\"dataframe\">\n  <thead>\n    <tr style=\"text-align: right;\">\n      <th></th>\n      <th>total_loan</th>\n      <th>year_of_loan</th>\n      <th>interest</th>\n      <th>monthly_payment</th>\n      <th>class</th>\n      <th>employer_type</th>\n      <th>industry</th>\n      <th>work_year</th>\n      <th>house_exist</th>\n      <th>censor_status</th>\n      <th>...</th>\n      <th>policy_code</th>\n      <th>f0</th>\n      <th>f1</th>\n      <th>f2</th>\n      <th>f3</th>\n      <th>f4</th>\n      <th>early_return</th>\n      <th>early_return_amount</th>\n      <th>early_return_amount_3mon</th>\n      <th>isDefault</th>\n    </tr>\n  </thead>\n  <tbody>\n    <tr>\n      <th>0</th>\n      <td>31818.18182</td>\n      <td>3</td>\n      <td>11.466</td>\n      <td>1174.91</td>\n      <td>C</td>\n      <td>政府机构</td>\n      <td>金融业</td>\n      <td>3 years</td>\n      <td>0</td>\n      <td>1</td>\n      <td>...</td>\n      <td>1</td>\n      <td>1.0</td>\n      <td>0.0</td>\n      <td>4.0</td>\n      <td>5.0</td>\n      <td>4.0</td>\n      <td>3</td>\n      <td>9927</td>\n      <td>0.0</td>\n      <td>0</td>\n    </tr>\n    <tr>\n      <th>1</th>\n      <td>28000.00000</td>\n      <td>5</td>\n      <td>16.841</td>\n      <td>670.69</td>\n      <td>C</td>\n      <td>政府机构</td>\n      <td>金融业</td>\n      <td>10+ years</td>\n      <td>0</td>\n      <td>2</td>\n      <td>...</td>\n      <td>1</td>\n      <td>7.0</td>\n      <td>0.0</td>\n      <td>4.0</td>\n      <td>45.0</td>\n      <td>22.0</td>\n      <td>0</td>\n      <td>0</td>\n      <td>0.0</td>\n      <td>0</td>\n    </tr>\n    <tr>\n      <th>2</th>\n      <td>17272.72727</td>\n      <td>3</td>\n      <td>8.900</td>\n      <td>603.32</td>\n      <td>A</td>\n      <td>政府机构</td>\n      <td>公共服务、社会组织</td>\n      <td>10+ years</td>\n      <td>1</td>\n      <td>0</td>\n      <td>...</td>\n      <td>1</td>\n      <td>6.0</td>\n      <td>0.0</td>\n      <td>6.0</td>\n      <td>28.0</td>\n      <td>19.0</td>\n      <td>0</td>\n      <td>0</td>\n      <td>0.0</td>\n      <td>0</td>\n    </tr>\n    <tr>\n      <th>3</th>\n      <td>20000.00000</td>\n      <td>3</td>\n      <td>4.788</td>\n      <td>602.30</td>\n      <td>A</td>\n      <td>世界五百强</td>\n      <td>文化和体育业</td>\n      <td>6 years</td>\n      <td>0</td>\n      <td>1</td>\n      <td>...</td>\n      <td>1</td>\n      <td>5.0</td>\n      <td>0.0</td>\n      <td>10.0</td>\n      <td>15.0</td>\n      <td>9.0</td>\n      <td>0</td>\n      <td>0</td>\n      <td>0.0</td>\n      <td>0</td>\n    </tr>\n    <tr>\n      <th>4</th>\n      <td>15272.72727</td>\n      <td>3</td>\n      <td>12.790</td>\n      <td>470.31</td>\n      <td>C</td>\n      <td>政府机构</td>\n      <td>信息传输、软件和信息技术服务业</td>\n      <td>&lt; 1 year</td>\n      <td>2</td>\n      <td>1</td>\n      <td>...</td>\n      <td>1</td>\n      <td>10.0</td>\n      <td>0.0</td>\n      <td>6.0</td>\n      <td>15.0</td>\n      <td>4.0</td>\n      <td>0</td>\n      <td>0</td>\n      <td>0.0</td>\n      <td>0</td>\n    </tr>\n    <tr>\n      <th>...</th>\n      <td>...</td>\n      <td>...</td>\n      <td>...</td>\n      <td>...</td>\n      <td>...</td>\n      <td>...</td>\n      <td>...</td>\n      <td>...</td>\n      <td>...</td>\n      <td>...</td>\n      <td>...</td>\n      <td>...</td>\n      <td>...</td>\n      <td>...</td>\n      <td>...</td>\n      <td>...</td>\n      <td>...</td>\n      <td>...</td>\n      <td>...</td>\n      <td>...</td>\n      <td>...</td>\n    </tr>\n    <tr>\n      <th>9995</th>\n      <td>17727.27273</td>\n      <td>3</td>\n      <td>15.037</td>\n      <td>510.27</td>\n      <td>B</td>\n      <td>普通企业</td>\n      <td>建筑业</td>\n      <td>7 years</td>\n      <td>1</td>\n      <td>1</td>\n      <td>...</td>\n      <td>1</td>\n      <td>4.0</td>\n      <td>0.0</td>\n      <td>4.0</td>\n      <td>11.0</td>\n      <td>7.0</td>\n      <td>2</td>\n      <td>5287</td>\n      <td>0.0</td>\n      <td>0</td>\n    </tr>\n    <tr>\n      <th>9996</th>\n      <td>13636.36364</td>\n      <td>3</td>\n      <td>6.534</td>\n      <td>464.95</td>\n      <td>A</td>\n      <td>政府机构</td>\n      <td>农、林、牧、渔业</td>\n      <td>2 years</td>\n      <td>1</td>\n      <td>1</td>\n      <td>...</td>\n      <td>1</td>\n      <td>2.0</td>\n      <td>0.0</td>\n      <td>2.0</td>\n      <td>7.0</td>\n      <td>6.0</td>\n      <td>3</td>\n      <td>7182</td>\n      <td>0.0</td>\n      <td>0</td>\n    </tr>\n    <tr>\n      <th>9997</th>\n      <td>24818.18182</td>\n      <td>3</td>\n      <td>14.421</td>\n      <td>708.69</td>\n      <td>B</td>\n      <td>普通企业</td>\n      <td>信息传输、软件和信息技术服务业</td>\n      <td>10+ years</td>\n      <td>0</td>\n      <td>0</td>\n      <td>...</td>\n      <td>1</td>\n      <td>6.0</td>\n      <td>0.0</td>\n      <td>5.0</td>\n      <td>15.0</td>\n      <td>11.0</td>\n      <td>1</td>\n      <td>8540</td>\n      <td>2562.0</td>\n      <td>0</td>\n    </tr>\n    <tr>\n      <th>9998</th>\n      <td>20000.00000</td>\n      <td>3</td>\n      <td>18.450</td>\n      <td>727.58</td>\n      <td>D</td>\n      <td>政府机构</td>\n      <td>农、林、牧、渔业</td>\n      <td>10+ years</td>\n      <td>0</td>\n      <td>0</td>\n      <td>...</td>\n      <td>1</td>\n      <td>7.0</td>\n      <td>0.0</td>\n      <td>5.0</td>\n      <td>17.0</td>\n      <td>10.0</td>\n      <td>2</td>\n      <td>6161</td>\n      <td>616.1</td>\n      <td>0</td>\n    </tr>\n    <tr>\n      <th>9999</th>\n      <td>1000.00000</td>\n      <td>3</td>\n      <td>14.014</td>\n      <td>33.57</td>\n      <td>C</td>\n      <td>高等教育机构</td>\n      <td>信息传输、软件和信息技术服务业</td>\n      <td>7 years</td>\n      <td>1</td>\n      <td>0</td>\n      <td>...</td>\n      <td>1</td>\n      <td>3.0</td>\n      <td>0.0</td>\n      <td>2.0</td>\n      <td>9.0</td>\n      <td>6.0</td>\n      <td>3</td>\n      <td>299</td>\n      <td>59.8</td>\n      <td>0</td>\n    </tr>\n  </tbody>\n</table>\n<p>10000 rows × 36 columns</p>\n</div>"
     },
     "execution_count": 129,
     "metadata": {},
     "output_type": "execute_result"
    }
   ],
   "source": [
    "public_data"
   ],
   "metadata": {
    "collapsed": false,
    "ExecuteTime": {
     "end_time": "2024-05-07T19:04:25.824383300Z",
     "start_time": "2024-05-07T19:04:25.769425600Z"
    }
   },
   "id": "fedd313ca371bfb2"
  },
  {
   "cell_type": "code",
   "execution_count": 130,
   "outputs": [
    {
     "data": {
      "text/plain": "        total_loan  year_of_loan  interest  monthly_payment class sub_class  \\\n0          12000.0             5     11.53           264.10     B        B5   \n1           8000.0             3     13.98           273.35     C        C3   \n2          20000.0             5     17.99           507.76     D        D2   \n3          10700.0             3     10.16           346.07     B        B1   \n4           8000.0             3      8.24           251.58     B        B1   \n...            ...           ...       ...              ...   ...       ...   \n749995     12000.0             3     11.47           395.55     B        B5   \n749996     12000.0             3      6.03           365.23     A        A1   \n749997     10000.0             3     15.41           348.67     D        D1   \n749998      7200.0             3      9.44           230.44     B        B1   \n749999     16000.0             5     19.22           416.99     D        D4   \n\n       work_type employer_type         industry  work_year  ...  \\\n0             职员          普通企业              采矿业        NaN  ...   \n1             其他          普通企业             国际组织  10+ years  ...   \n2             工人          上市企业  信息传输、软件和信息技术服务业  10+ years  ...   \n3             职员          普通企业       电力、热力生产供应业    2 years  ...   \n4             其他          政府机构              金融业    5 years  ...   \n...          ...           ...              ...        ...  ...   \n749995        职员          上市企业           文化和体育业    4 years  ...   \n749996        工人          政府机构           住宿和餐饮业    8 years  ...   \n749997        职员          政府机构           住宿和餐饮业    8 years  ...   \n749998        其他          政府机构  信息传输、软件和信息技术服务业  10+ years  ...   \n749999        职员       幼教与中小学校           文化和体育业    3 years  ...   \n\n        earlies_credit_mon    title  policy_code   f0   f1    f2    f3    f4  \\\n0                 Mar-1984      0.0          1.0  1.0  0.0   8.0  17.0   8.0   \n1                 Jan-1992     94.0          1.0  NaN  NaN   NaN   NaN   NaN   \n2                 Oct-1996      0.0          1.0  6.0  0.0  10.0   8.0   3.0   \n3                 Jul-2000  41646.0          1.0  3.0  0.0   4.0  11.0   6.0   \n4                 Mar-2000      4.0          1.0  3.0  0.0   8.0   6.0   4.0   \n...                    ...      ...          ...  ...  ...   ...   ...   ...   \n749995            Jun-1995      0.0          1.0  6.0  0.0   8.0  22.0  12.0   \n749996            Sep-2001      4.0          1.0  2.0  0.0   7.0   4.0   4.0   \n749997            Oct-2008      8.0          1.0  6.0  0.0  10.0  11.0   3.0   \n749998            Apr-2006      0.0          1.0  7.0  0.0   9.0  11.0   6.0   \n749999            Feb-2001      6.0          1.0  7.0  0.0   9.0  13.0   6.0   \n\n         f5  is_default  \n0       1.0           1  \n1       NaN           0  \n2       0.0           0  \n3       0.0           0  \n4       1.0           0  \n...     ...         ...  \n749995  5.0           0  \n749996  0.0           0  \n749997  0.0           0  \n749998  0.0           0  \n749999  0.0           0  \n\n[750000 rows x 39 columns]",
      "text/html": "<div>\n<style scoped>\n    .dataframe tbody tr th:only-of-type {\n        vertical-align: middle;\n    }\n\n    .dataframe tbody tr th {\n        vertical-align: top;\n    }\n\n    .dataframe thead th {\n        text-align: right;\n    }\n</style>\n<table border=\"1\" class=\"dataframe\">\n  <thead>\n    <tr style=\"text-align: right;\">\n      <th></th>\n      <th>total_loan</th>\n      <th>year_of_loan</th>\n      <th>interest</th>\n      <th>monthly_payment</th>\n      <th>class</th>\n      <th>sub_class</th>\n      <th>work_type</th>\n      <th>employer_type</th>\n      <th>industry</th>\n      <th>work_year</th>\n      <th>...</th>\n      <th>earlies_credit_mon</th>\n      <th>title</th>\n      <th>policy_code</th>\n      <th>f0</th>\n      <th>f1</th>\n      <th>f2</th>\n      <th>f3</th>\n      <th>f4</th>\n      <th>f5</th>\n      <th>is_default</th>\n    </tr>\n  </thead>\n  <tbody>\n    <tr>\n      <th>0</th>\n      <td>12000.0</td>\n      <td>5</td>\n      <td>11.53</td>\n      <td>264.10</td>\n      <td>B</td>\n      <td>B5</td>\n      <td>职员</td>\n      <td>普通企业</td>\n      <td>采矿业</td>\n      <td>NaN</td>\n      <td>...</td>\n      <td>Mar-1984</td>\n      <td>0.0</td>\n      <td>1.0</td>\n      <td>1.0</td>\n      <td>0.0</td>\n      <td>8.0</td>\n      <td>17.0</td>\n      <td>8.0</td>\n      <td>1.0</td>\n      <td>1</td>\n    </tr>\n    <tr>\n      <th>1</th>\n      <td>8000.0</td>\n      <td>3</td>\n      <td>13.98</td>\n      <td>273.35</td>\n      <td>C</td>\n      <td>C3</td>\n      <td>其他</td>\n      <td>普通企业</td>\n      <td>国际组织</td>\n      <td>10+ years</td>\n      <td>...</td>\n      <td>Jan-1992</td>\n      <td>94.0</td>\n      <td>1.0</td>\n      <td>NaN</td>\n      <td>NaN</td>\n      <td>NaN</td>\n      <td>NaN</td>\n      <td>NaN</td>\n      <td>NaN</td>\n      <td>0</td>\n    </tr>\n    <tr>\n      <th>2</th>\n      <td>20000.0</td>\n      <td>5</td>\n      <td>17.99</td>\n      <td>507.76</td>\n      <td>D</td>\n      <td>D2</td>\n      <td>工人</td>\n      <td>上市企业</td>\n      <td>信息传输、软件和信息技术服务业</td>\n      <td>10+ years</td>\n      <td>...</td>\n      <td>Oct-1996</td>\n      <td>0.0</td>\n      <td>1.0</td>\n      <td>6.0</td>\n      <td>0.0</td>\n      <td>10.0</td>\n      <td>8.0</td>\n      <td>3.0</td>\n      <td>0.0</td>\n      <td>0</td>\n    </tr>\n    <tr>\n      <th>3</th>\n      <td>10700.0</td>\n      <td>3</td>\n      <td>10.16</td>\n      <td>346.07</td>\n      <td>B</td>\n      <td>B1</td>\n      <td>职员</td>\n      <td>普通企业</td>\n      <td>电力、热力生产供应业</td>\n      <td>2 years</td>\n      <td>...</td>\n      <td>Jul-2000</td>\n      <td>41646.0</td>\n      <td>1.0</td>\n      <td>3.0</td>\n      <td>0.0</td>\n      <td>4.0</td>\n      <td>11.0</td>\n      <td>6.0</td>\n      <td>0.0</td>\n      <td>0</td>\n    </tr>\n    <tr>\n      <th>4</th>\n      <td>8000.0</td>\n      <td>3</td>\n      <td>8.24</td>\n      <td>251.58</td>\n      <td>B</td>\n      <td>B1</td>\n      <td>其他</td>\n      <td>政府机构</td>\n      <td>金融业</td>\n      <td>5 years</td>\n      <td>...</td>\n      <td>Mar-2000</td>\n      <td>4.0</td>\n      <td>1.0</td>\n      <td>3.0</td>\n      <td>0.0</td>\n      <td>8.0</td>\n      <td>6.0</td>\n      <td>4.0</td>\n      <td>1.0</td>\n      <td>0</td>\n    </tr>\n    <tr>\n      <th>...</th>\n      <td>...</td>\n      <td>...</td>\n      <td>...</td>\n      <td>...</td>\n      <td>...</td>\n      <td>...</td>\n      <td>...</td>\n      <td>...</td>\n      <td>...</td>\n      <td>...</td>\n      <td>...</td>\n      <td>...</td>\n      <td>...</td>\n      <td>...</td>\n      <td>...</td>\n      <td>...</td>\n      <td>...</td>\n      <td>...</td>\n      <td>...</td>\n      <td>...</td>\n      <td>...</td>\n    </tr>\n    <tr>\n      <th>749995</th>\n      <td>12000.0</td>\n      <td>3</td>\n      <td>11.47</td>\n      <td>395.55</td>\n      <td>B</td>\n      <td>B5</td>\n      <td>职员</td>\n      <td>上市企业</td>\n      <td>文化和体育业</td>\n      <td>4 years</td>\n      <td>...</td>\n      <td>Jun-1995</td>\n      <td>0.0</td>\n      <td>1.0</td>\n      <td>6.0</td>\n      <td>0.0</td>\n      <td>8.0</td>\n      <td>22.0</td>\n      <td>12.0</td>\n      <td>5.0</td>\n      <td>0</td>\n    </tr>\n    <tr>\n      <th>749996</th>\n      <td>12000.0</td>\n      <td>3</td>\n      <td>6.03</td>\n      <td>365.23</td>\n      <td>A</td>\n      <td>A1</td>\n      <td>工人</td>\n      <td>政府机构</td>\n      <td>住宿和餐饮业</td>\n      <td>8 years</td>\n      <td>...</td>\n      <td>Sep-2001</td>\n      <td>4.0</td>\n      <td>1.0</td>\n      <td>2.0</td>\n      <td>0.0</td>\n      <td>7.0</td>\n      <td>4.0</td>\n      <td>4.0</td>\n      <td>0.0</td>\n      <td>0</td>\n    </tr>\n    <tr>\n      <th>749997</th>\n      <td>10000.0</td>\n      <td>3</td>\n      <td>15.41</td>\n      <td>348.67</td>\n      <td>D</td>\n      <td>D1</td>\n      <td>职员</td>\n      <td>政府机构</td>\n      <td>住宿和餐饮业</td>\n      <td>8 years</td>\n      <td>...</td>\n      <td>Oct-2008</td>\n      <td>8.0</td>\n      <td>1.0</td>\n      <td>6.0</td>\n      <td>0.0</td>\n      <td>10.0</td>\n      <td>11.0</td>\n      <td>3.0</td>\n      <td>0.0</td>\n      <td>0</td>\n    </tr>\n    <tr>\n      <th>749998</th>\n      <td>7200.0</td>\n      <td>3</td>\n      <td>9.44</td>\n      <td>230.44</td>\n      <td>B</td>\n      <td>B1</td>\n      <td>其他</td>\n      <td>政府机构</td>\n      <td>信息传输、软件和信息技术服务业</td>\n      <td>10+ years</td>\n      <td>...</td>\n      <td>Apr-2006</td>\n      <td>0.0</td>\n      <td>1.0</td>\n      <td>7.0</td>\n      <td>0.0</td>\n      <td>9.0</td>\n      <td>11.0</td>\n      <td>6.0</td>\n      <td>0.0</td>\n      <td>0</td>\n    </tr>\n    <tr>\n      <th>749999</th>\n      <td>16000.0</td>\n      <td>5</td>\n      <td>19.22</td>\n      <td>416.99</td>\n      <td>D</td>\n      <td>D4</td>\n      <td>职员</td>\n      <td>幼教与中小学校</td>\n      <td>文化和体育业</td>\n      <td>3 years</td>\n      <td>...</td>\n      <td>Feb-2001</td>\n      <td>6.0</td>\n      <td>1.0</td>\n      <td>7.0</td>\n      <td>0.0</td>\n      <td>9.0</td>\n      <td>13.0</td>\n      <td>6.0</td>\n      <td>0.0</td>\n      <td>0</td>\n    </tr>\n  </tbody>\n</table>\n<p>750000 rows × 39 columns</p>\n</div>"
     },
     "execution_count": 130,
     "metadata": {},
     "output_type": "execute_result"
    }
   ],
   "source": [
    "internet_data"
   ],
   "metadata": {
    "collapsed": false,
    "ExecuteTime": {
     "end_time": "2024-05-07T19:04:27.282692Z",
     "start_time": "2024-05-07T19:04:27.114125300Z"
    }
   },
   "id": "bbac05d03de955a1"
  },
  {
   "cell_type": "code",
   "execution_count": 131,
   "outputs": [],
   "source": [
    "large_val_columns=[\"total_loan\",\"monthly_payment\",\"recircle_b\",\"title\",\"early_return_amount\",\"early_return_amount_3mon\",\"scoring_high\"]\n",
    "def log_process(df,columns):\n",
    "    for col in columns:\n",
    "        df[col]=np.log(df[col]+1)\n",
    "    return df"
   ],
   "metadata": {
    "collapsed": false,
    "ExecuteTime": {
     "end_time": "2024-05-07T19:04:31.795203400Z",
     "start_time": "2024-05-07T19:04:31.775806100Z"
    }
   },
   "id": "8e2cfb0b55a95cdd"
  },
  {
   "cell_type": "code",
   "execution_count": 132,
   "outputs": [
    {
     "name": "stderr",
     "output_type": "stream",
     "text": [
      "C:\\Users\\woczgl\\AppData\\Local\\Temp\\ipykernel_14752\\1738779828.py:8: FutureWarning: A value is trying to be set on a copy of a DataFrame or Series through chained assignment using an inplace method.\n",
      "The behavior will change in pandas 3.0. This inplace method will never work because the intermediate object on which we are setting values always behaves as a copy.\n",
      "\n",
      "For example, when doing 'df[col].method(value, inplace=True)', try using 'df.method({col: value}, inplace=True)' or df[col] = df[col].method(value) instead, to perform the operation inplace on the original object.\n",
      "\n",
      "\n",
      "  df[column].fillna(mean_value, inplace=True)  # 填充缺失值\n",
      "C:\\Users\\woczgl\\AppData\\Local\\Temp\\ipykernel_14752\\1738779828.py:13: FutureWarning: A value is trying to be set on a copy of a DataFrame or Series through chained assignment using an inplace method.\n",
      "The behavior will change in pandas 3.0. This inplace method will never work because the intermediate object on which we are setting values always behaves as a copy.\n",
      "\n",
      "For example, when doing 'df[col].method(value, inplace=True)', try using 'df.method({col: value}, inplace=True)' or df[col] = df[col].method(value) instead, to perform the operation inplace on the original object.\n",
      "\n",
      "\n",
      "  df[column].fillna(mode_value, inplace=True)  # 填充缺失值\n",
      "C:\\Users\\woczgl\\AppData\\Local\\Temp\\ipykernel_14752\\1738779828.py:8: FutureWarning: A value is trying to be set on a copy of a DataFrame or Series through chained assignment using an inplace method.\n",
      "The behavior will change in pandas 3.0. This inplace method will never work because the intermediate object on which we are setting values always behaves as a copy.\n",
      "\n",
      "For example, when doing 'df[col].method(value, inplace=True)', try using 'df.method({col: value}, inplace=True)' or df[col] = df[col].method(value) instead, to perform the operation inplace on the original object.\n",
      "\n",
      "\n",
      "  df[column].fillna(mean_value, inplace=True)  # 填充缺失值\n",
      "C:\\Users\\woczgl\\AppData\\Local\\Temp\\ipykernel_14752\\1738779828.py:13: FutureWarning: A value is trying to be set on a copy of a DataFrame or Series through chained assignment using an inplace method.\n",
      "The behavior will change in pandas 3.0. This inplace method will never work because the intermediate object on which we are setting values always behaves as a copy.\n",
      "\n",
      "For example, when doing 'df[col].method(value, inplace=True)', try using 'df.method({col: value}, inplace=True)' or df[col] = df[col].method(value) instead, to perform the operation inplace on the original object.\n",
      "\n",
      "\n",
      "  df[column].fillna(mode_value, inplace=True)  # 填充缺失值\n"
     ]
    }
   ],
   "source": [
    "\n",
    "#消除各自独有的列\n",
    "regu_public_data,regu_internet_data=regularize(public_data,internet_data)\n",
    "#分别进行处理\n",
    "#缺失填充\n",
    "mean_public_data=mean_fillna_process(regu_public_data)\n",
    "mean_internet_data=mean_fillna_process(regu_internet_data)\n",
    "#字符类型变换\n",
    "trans_public_data=transform_to_num(mean_public_data,transform_columns)\n",
    "trans_internet_data=transform_to_num(mean_internet_data,transform_columns)\n",
    "#特征工程\n",
    "log_public_data=log_process(trans_public_data,large_val_columns)\n",
    "log_internet_data=log_process(trans_internet_data,large_val_columns)\n",
    "#特征提取\n",
    "wy_public_data=get_work_year(log_public_data)\n",
    "wy_internet_data=get_work_year(log_internet_data)\n",
    "pub_data=create_feature_process(wy_public_data)\n",
    "inter_data=create_feature_process2(wy_internet_data)\n",
    "\n"
   ],
   "metadata": {
    "collapsed": false,
    "ExecuteTime": {
     "end_time": "2024-05-07T19:04:37.992164100Z",
     "start_time": "2024-05-07T19:04:35.318511100Z"
    }
   },
   "id": "6f69079a4a1e001"
  },
  {
   "cell_type": "code",
   "execution_count": 133,
   "outputs": [
    {
     "data": {
      "text/plain": "      total_loan  year_of_loan  interest  monthly_payment  class  \\\n0      10.367825             3    11.466         7.069798      2   \n1      10.239996             5    16.841         6.509797      2   \n2       9.756942             3     8.900         6.404104      0   \n3       9.903538             3     4.788         6.402415      0   \n4       9.633889             3    12.790         6.155516      2   \n...          ...           ...       ...              ...    ...   \n9995    9.782916             3    15.037         6.236898      1   \n9996    9.520569             3     6.534         6.144078      0   \n9997   10.119372             3    14.421         6.564828      1   \n9998    9.903538             3    18.450         6.591097      3   \n9999    6.908755             3    14.014         3.542986      2   \n\n      employer_type  industry  house_exist  censor_status issue_date  ...  \\\n0                 3        13            0              1  2016/10/1  ...   \n1                 3        13            0              2   2013/6/1  ...   \n2                 3         3            1              0   2014/1/1  ...   \n3                 1        10            0              1   2015/7/1  ...   \n4                 3         2            2              1   2016/7/1  ...   \n...             ...       ...          ...            ...        ...  ...   \n9995              4         7            1              1  2013/11/1  ...   \n9996              3         4            1              1  2015/12/1  ...   \n9997              4         2            0              0  2012/12/1  ...   \n9998              3         4            0              0   2018/3/1  ...   \n9999              5         2            1              0   2017/5/1  ...   \n\n        f2    f3    f4  early_return  early_return_amount  \\\n0      4.0   5.0   4.0             3             9.203114   \n1      4.0  45.0  22.0             0             0.000000   \n2      6.0  28.0  19.0             0             0.000000   \n3     10.0  15.0   9.0             0             0.000000   \n4      6.0  15.0   4.0             0             0.000000   \n...    ...   ...   ...           ...                  ...   \n9995   4.0  11.0   7.0             2             8.573195   \n9996   2.0   7.0   6.0             3             8.879472   \n9997   5.0  15.0  11.0             1             9.052633   \n9998   5.0  17.0  10.0             2             8.726157   \n9999   2.0   9.0   6.0             3             5.703782   \n\n      early_return_amount_3mon  isDefault  new_work_year  feature_year  \\\n0                     0.000000          0              3          2001   \n1                     0.000000          0             10          1990   \n2                     0.000000          0             10          1991   \n3                     0.000000          0              6          2001   \n4                     0.000000          0              0          2002   \n...                        ...        ...            ...           ...   \n9995                  0.000000          0              7          2006   \n9996                  0.000000          0              2          1997   \n9997                  7.848934          0             10          1987   \n9998                  6.425031          0             10          1992   \n9999                  4.107590          0              7          2009   \n\n      feature_month  \n0                12  \n1                 4  \n2                10  \n3                 6  \n4                 5  \n...             ...  \n9995              2  \n9996              5  \n9997              2  \n9998             10  \n9999              2  \n\n[10000 rows x 34 columns]",
      "text/html": "<div>\n<style scoped>\n    .dataframe tbody tr th:only-of-type {\n        vertical-align: middle;\n    }\n\n    .dataframe tbody tr th {\n        vertical-align: top;\n    }\n\n    .dataframe thead th {\n        text-align: right;\n    }\n</style>\n<table border=\"1\" class=\"dataframe\">\n  <thead>\n    <tr style=\"text-align: right;\">\n      <th></th>\n      <th>total_loan</th>\n      <th>year_of_loan</th>\n      <th>interest</th>\n      <th>monthly_payment</th>\n      <th>class</th>\n      <th>employer_type</th>\n      <th>industry</th>\n      <th>house_exist</th>\n      <th>censor_status</th>\n      <th>issue_date</th>\n      <th>...</th>\n      <th>f2</th>\n      <th>f3</th>\n      <th>f4</th>\n      <th>early_return</th>\n      <th>early_return_amount</th>\n      <th>early_return_amount_3mon</th>\n      <th>isDefault</th>\n      <th>new_work_year</th>\n      <th>feature_year</th>\n      <th>feature_month</th>\n    </tr>\n  </thead>\n  <tbody>\n    <tr>\n      <th>0</th>\n      <td>10.367825</td>\n      <td>3</td>\n      <td>11.466</td>\n      <td>7.069798</td>\n      <td>2</td>\n      <td>3</td>\n      <td>13</td>\n      <td>0</td>\n      <td>1</td>\n      <td>2016/10/1</td>\n      <td>...</td>\n      <td>4.0</td>\n      <td>5.0</td>\n      <td>4.0</td>\n      <td>3</td>\n      <td>9.203114</td>\n      <td>0.000000</td>\n      <td>0</td>\n      <td>3</td>\n      <td>2001</td>\n      <td>12</td>\n    </tr>\n    <tr>\n      <th>1</th>\n      <td>10.239996</td>\n      <td>5</td>\n      <td>16.841</td>\n      <td>6.509797</td>\n      <td>2</td>\n      <td>3</td>\n      <td>13</td>\n      <td>0</td>\n      <td>2</td>\n      <td>2013/6/1</td>\n      <td>...</td>\n      <td>4.0</td>\n      <td>45.0</td>\n      <td>22.0</td>\n      <td>0</td>\n      <td>0.000000</td>\n      <td>0.000000</td>\n      <td>0</td>\n      <td>10</td>\n      <td>1990</td>\n      <td>4</td>\n    </tr>\n    <tr>\n      <th>2</th>\n      <td>9.756942</td>\n      <td>3</td>\n      <td>8.900</td>\n      <td>6.404104</td>\n      <td>0</td>\n      <td>3</td>\n      <td>3</td>\n      <td>1</td>\n      <td>0</td>\n      <td>2014/1/1</td>\n      <td>...</td>\n      <td>6.0</td>\n      <td>28.0</td>\n      <td>19.0</td>\n      <td>0</td>\n      <td>0.000000</td>\n      <td>0.000000</td>\n      <td>0</td>\n      <td>10</td>\n      <td>1991</td>\n      <td>10</td>\n    </tr>\n    <tr>\n      <th>3</th>\n      <td>9.903538</td>\n      <td>3</td>\n      <td>4.788</td>\n      <td>6.402415</td>\n      <td>0</td>\n      <td>1</td>\n      <td>10</td>\n      <td>0</td>\n      <td>1</td>\n      <td>2015/7/1</td>\n      <td>...</td>\n      <td>10.0</td>\n      <td>15.0</td>\n      <td>9.0</td>\n      <td>0</td>\n      <td>0.000000</td>\n      <td>0.000000</td>\n      <td>0</td>\n      <td>6</td>\n      <td>2001</td>\n      <td>6</td>\n    </tr>\n    <tr>\n      <th>4</th>\n      <td>9.633889</td>\n      <td>3</td>\n      <td>12.790</td>\n      <td>6.155516</td>\n      <td>2</td>\n      <td>3</td>\n      <td>2</td>\n      <td>2</td>\n      <td>1</td>\n      <td>2016/7/1</td>\n      <td>...</td>\n      <td>6.0</td>\n      <td>15.0</td>\n      <td>4.0</td>\n      <td>0</td>\n      <td>0.000000</td>\n      <td>0.000000</td>\n      <td>0</td>\n      <td>0</td>\n      <td>2002</td>\n      <td>5</td>\n    </tr>\n    <tr>\n      <th>...</th>\n      <td>...</td>\n      <td>...</td>\n      <td>...</td>\n      <td>...</td>\n      <td>...</td>\n      <td>...</td>\n      <td>...</td>\n      <td>...</td>\n      <td>...</td>\n      <td>...</td>\n      <td>...</td>\n      <td>...</td>\n      <td>...</td>\n      <td>...</td>\n      <td>...</td>\n      <td>...</td>\n      <td>...</td>\n      <td>...</td>\n      <td>...</td>\n      <td>...</td>\n      <td>...</td>\n    </tr>\n    <tr>\n      <th>9995</th>\n      <td>9.782916</td>\n      <td>3</td>\n      <td>15.037</td>\n      <td>6.236898</td>\n      <td>1</td>\n      <td>4</td>\n      <td>7</td>\n      <td>1</td>\n      <td>1</td>\n      <td>2013/11/1</td>\n      <td>...</td>\n      <td>4.0</td>\n      <td>11.0</td>\n      <td>7.0</td>\n      <td>2</td>\n      <td>8.573195</td>\n      <td>0.000000</td>\n      <td>0</td>\n      <td>7</td>\n      <td>2006</td>\n      <td>2</td>\n    </tr>\n    <tr>\n      <th>9996</th>\n      <td>9.520569</td>\n      <td>3</td>\n      <td>6.534</td>\n      <td>6.144078</td>\n      <td>0</td>\n      <td>3</td>\n      <td>4</td>\n      <td>1</td>\n      <td>1</td>\n      <td>2015/12/1</td>\n      <td>...</td>\n      <td>2.0</td>\n      <td>7.0</td>\n      <td>6.0</td>\n      <td>3</td>\n      <td>8.879472</td>\n      <td>0.000000</td>\n      <td>0</td>\n      <td>2</td>\n      <td>1997</td>\n      <td>5</td>\n    </tr>\n    <tr>\n      <th>9997</th>\n      <td>10.119372</td>\n      <td>3</td>\n      <td>14.421</td>\n      <td>6.564828</td>\n      <td>1</td>\n      <td>4</td>\n      <td>2</td>\n      <td>0</td>\n      <td>0</td>\n      <td>2012/12/1</td>\n      <td>...</td>\n      <td>5.0</td>\n      <td>15.0</td>\n      <td>11.0</td>\n      <td>1</td>\n      <td>9.052633</td>\n      <td>7.848934</td>\n      <td>0</td>\n      <td>10</td>\n      <td>1987</td>\n      <td>2</td>\n    </tr>\n    <tr>\n      <th>9998</th>\n      <td>9.903538</td>\n      <td>3</td>\n      <td>18.450</td>\n      <td>6.591097</td>\n      <td>3</td>\n      <td>3</td>\n      <td>4</td>\n      <td>0</td>\n      <td>0</td>\n      <td>2018/3/1</td>\n      <td>...</td>\n      <td>5.0</td>\n      <td>17.0</td>\n      <td>10.0</td>\n      <td>2</td>\n      <td>8.726157</td>\n      <td>6.425031</td>\n      <td>0</td>\n      <td>10</td>\n      <td>1992</td>\n      <td>10</td>\n    </tr>\n    <tr>\n      <th>9999</th>\n      <td>6.908755</td>\n      <td>3</td>\n      <td>14.014</td>\n      <td>3.542986</td>\n      <td>2</td>\n      <td>5</td>\n      <td>2</td>\n      <td>1</td>\n      <td>0</td>\n      <td>2017/5/1</td>\n      <td>...</td>\n      <td>2.0</td>\n      <td>9.0</td>\n      <td>6.0</td>\n      <td>3</td>\n      <td>5.703782</td>\n      <td>4.107590</td>\n      <td>0</td>\n      <td>7</td>\n      <td>2009</td>\n      <td>2</td>\n    </tr>\n  </tbody>\n</table>\n<p>10000 rows × 34 columns</p>\n</div>"
     },
     "execution_count": 133,
     "metadata": {},
     "output_type": "execute_result"
    }
   ],
   "source": [
    "pub_data"
   ],
   "metadata": {
    "collapsed": false,
    "ExecuteTime": {
     "end_time": "2024-05-07T19:04:40.879822600Z",
     "start_time": "2024-05-07T19:04:40.844623800Z"
    }
   },
   "id": "26ffb26944f2da3f"
  },
  {
   "cell_type": "code",
   "execution_count": 134,
   "outputs": [
    {
     "data": {
      "text/plain": "        total_loan  year_of_loan  interest  monthly_payment  class  \\\n0         9.392745             5     11.53         5.580107      1   \n1         8.987322             3     13.98         5.614405      2   \n2         9.903538             5     17.99         6.231976      3   \n3         9.278092             3     10.16         5.849526      1   \n4         8.987322             3      8.24         5.531728      1   \n...            ...           ...       ...              ...    ...   \n749995    9.392745             3     11.47         5.982802      1   \n749996    9.392745             3      6.03         5.903262      0   \n749997    9.210440             3     15.41         5.856990      3   \n749998    8.881975             3      9.44         5.444321      1   \n749999    9.680406             5     19.22         6.035458      3   \n\n        employer_type  industry  house_exist  censor_status  issue_date  ...  \\\n0                   4        12            0              2  2015-06-01  ...   \n1                   4         6            0              2  2010-10-01  ...   \n2                   0         2            0              1  2016-08-01  ...   \n3                   4        11            2              2  2013-05-01  ...   \n4                   3        13            1              0  2017-04-01  ...   \n...               ...       ...          ...            ...         ...  ...   \n749995              0        10            0              1  2016-02-01  ...   \n749996              3         1            1              2  2014-03-01  ...   \n749997              3         1            1              2  2015-12-01  ...   \n749998              3         2            2              2  2017-12-01  ...   \n749999              2        10            1              1  2013-12-01  ...   \n\n        policy_code        f0        f1        f2         f3         f4  \\\n0               1.0  1.000000  0.000000   8.00000  17.000000   8.000000   \n1               1.0  5.592246  0.000805   8.57743  14.624197   8.110185   \n2               1.0  6.000000  0.000000  10.00000   8.000000   3.000000   \n3               1.0  3.000000  0.000000   4.00000  11.000000   6.000000   \n4               1.0  3.000000  0.000000   8.00000   6.000000   4.000000   \n...             ...       ...       ...       ...        ...        ...   \n749995          1.0  6.000000  0.000000   8.00000  22.000000  12.000000   \n749996          1.0  2.000000  0.000000   7.00000   4.000000   4.000000   \n749997          1.0  6.000000  0.000000  10.00000  11.000000   3.000000   \n749998          1.0  7.000000  0.000000   9.00000  11.000000   6.000000   \n749999          1.0  7.000000  0.000000   9.00000  13.000000   6.000000   \n\n        isDefault  new_work_year  feature_year  feature_month  \n0               1             10          1984              3  \n1               0             10          1992              1  \n2               0             10          1996             10  \n3               0              2          2000              7  \n4               0              5          2000              3  \n...           ...            ...           ...            ...  \n749995          0              4          1995              6  \n749996          0              8          2001              9  \n749997          0              8          2008             10  \n749998          0             10          2006              4  \n749999          0              3          2001              2  \n\n[750000 rows x 34 columns]",
      "text/html": "<div>\n<style scoped>\n    .dataframe tbody tr th:only-of-type {\n        vertical-align: middle;\n    }\n\n    .dataframe tbody tr th {\n        vertical-align: top;\n    }\n\n    .dataframe thead th {\n        text-align: right;\n    }\n</style>\n<table border=\"1\" class=\"dataframe\">\n  <thead>\n    <tr style=\"text-align: right;\">\n      <th></th>\n      <th>total_loan</th>\n      <th>year_of_loan</th>\n      <th>interest</th>\n      <th>monthly_payment</th>\n      <th>class</th>\n      <th>employer_type</th>\n      <th>industry</th>\n      <th>house_exist</th>\n      <th>censor_status</th>\n      <th>issue_date</th>\n      <th>...</th>\n      <th>policy_code</th>\n      <th>f0</th>\n      <th>f1</th>\n      <th>f2</th>\n      <th>f3</th>\n      <th>f4</th>\n      <th>isDefault</th>\n      <th>new_work_year</th>\n      <th>feature_year</th>\n      <th>feature_month</th>\n    </tr>\n  </thead>\n  <tbody>\n    <tr>\n      <th>0</th>\n      <td>9.392745</td>\n      <td>5</td>\n      <td>11.53</td>\n      <td>5.580107</td>\n      <td>1</td>\n      <td>4</td>\n      <td>12</td>\n      <td>0</td>\n      <td>2</td>\n      <td>2015-06-01</td>\n      <td>...</td>\n      <td>1.0</td>\n      <td>1.000000</td>\n      <td>0.000000</td>\n      <td>8.00000</td>\n      <td>17.000000</td>\n      <td>8.000000</td>\n      <td>1</td>\n      <td>10</td>\n      <td>1984</td>\n      <td>3</td>\n    </tr>\n    <tr>\n      <th>1</th>\n      <td>8.987322</td>\n      <td>3</td>\n      <td>13.98</td>\n      <td>5.614405</td>\n      <td>2</td>\n      <td>4</td>\n      <td>6</td>\n      <td>0</td>\n      <td>2</td>\n      <td>2010-10-01</td>\n      <td>...</td>\n      <td>1.0</td>\n      <td>5.592246</td>\n      <td>0.000805</td>\n      <td>8.57743</td>\n      <td>14.624197</td>\n      <td>8.110185</td>\n      <td>0</td>\n      <td>10</td>\n      <td>1992</td>\n      <td>1</td>\n    </tr>\n    <tr>\n      <th>2</th>\n      <td>9.903538</td>\n      <td>5</td>\n      <td>17.99</td>\n      <td>6.231976</td>\n      <td>3</td>\n      <td>0</td>\n      <td>2</td>\n      <td>0</td>\n      <td>1</td>\n      <td>2016-08-01</td>\n      <td>...</td>\n      <td>1.0</td>\n      <td>6.000000</td>\n      <td>0.000000</td>\n      <td>10.00000</td>\n      <td>8.000000</td>\n      <td>3.000000</td>\n      <td>0</td>\n      <td>10</td>\n      <td>1996</td>\n      <td>10</td>\n    </tr>\n    <tr>\n      <th>3</th>\n      <td>9.278092</td>\n      <td>3</td>\n      <td>10.16</td>\n      <td>5.849526</td>\n      <td>1</td>\n      <td>4</td>\n      <td>11</td>\n      <td>2</td>\n      <td>2</td>\n      <td>2013-05-01</td>\n      <td>...</td>\n      <td>1.0</td>\n      <td>3.000000</td>\n      <td>0.000000</td>\n      <td>4.00000</td>\n      <td>11.000000</td>\n      <td>6.000000</td>\n      <td>0</td>\n      <td>2</td>\n      <td>2000</td>\n      <td>7</td>\n    </tr>\n    <tr>\n      <th>4</th>\n      <td>8.987322</td>\n      <td>3</td>\n      <td>8.24</td>\n      <td>5.531728</td>\n      <td>1</td>\n      <td>3</td>\n      <td>13</td>\n      <td>1</td>\n      <td>0</td>\n      <td>2017-04-01</td>\n      <td>...</td>\n      <td>1.0</td>\n      <td>3.000000</td>\n      <td>0.000000</td>\n      <td>8.00000</td>\n      <td>6.000000</td>\n      <td>4.000000</td>\n      <td>0</td>\n      <td>5</td>\n      <td>2000</td>\n      <td>3</td>\n    </tr>\n    <tr>\n      <th>...</th>\n      <td>...</td>\n      <td>...</td>\n      <td>...</td>\n      <td>...</td>\n      <td>...</td>\n      <td>...</td>\n      <td>...</td>\n      <td>...</td>\n      <td>...</td>\n      <td>...</td>\n      <td>...</td>\n      <td>...</td>\n      <td>...</td>\n      <td>...</td>\n      <td>...</td>\n      <td>...</td>\n      <td>...</td>\n      <td>...</td>\n      <td>...</td>\n      <td>...</td>\n      <td>...</td>\n    </tr>\n    <tr>\n      <th>749995</th>\n      <td>9.392745</td>\n      <td>3</td>\n      <td>11.47</td>\n      <td>5.982802</td>\n      <td>1</td>\n      <td>0</td>\n      <td>10</td>\n      <td>0</td>\n      <td>1</td>\n      <td>2016-02-01</td>\n      <td>...</td>\n      <td>1.0</td>\n      <td>6.000000</td>\n      <td>0.000000</td>\n      <td>8.00000</td>\n      <td>22.000000</td>\n      <td>12.000000</td>\n      <td>0</td>\n      <td>4</td>\n      <td>1995</td>\n      <td>6</td>\n    </tr>\n    <tr>\n      <th>749996</th>\n      <td>9.392745</td>\n      <td>3</td>\n      <td>6.03</td>\n      <td>5.903262</td>\n      <td>0</td>\n      <td>3</td>\n      <td>1</td>\n      <td>1</td>\n      <td>2</td>\n      <td>2014-03-01</td>\n      <td>...</td>\n      <td>1.0</td>\n      <td>2.000000</td>\n      <td>0.000000</td>\n      <td>7.00000</td>\n      <td>4.000000</td>\n      <td>4.000000</td>\n      <td>0</td>\n      <td>8</td>\n      <td>2001</td>\n      <td>9</td>\n    </tr>\n    <tr>\n      <th>749997</th>\n      <td>9.210440</td>\n      <td>3</td>\n      <td>15.41</td>\n      <td>5.856990</td>\n      <td>3</td>\n      <td>3</td>\n      <td>1</td>\n      <td>1</td>\n      <td>2</td>\n      <td>2015-12-01</td>\n      <td>...</td>\n      <td>1.0</td>\n      <td>6.000000</td>\n      <td>0.000000</td>\n      <td>10.00000</td>\n      <td>11.000000</td>\n      <td>3.000000</td>\n      <td>0</td>\n      <td>8</td>\n      <td>2008</td>\n      <td>10</td>\n    </tr>\n    <tr>\n      <th>749998</th>\n      <td>8.881975</td>\n      <td>3</td>\n      <td>9.44</td>\n      <td>5.444321</td>\n      <td>1</td>\n      <td>3</td>\n      <td>2</td>\n      <td>2</td>\n      <td>2</td>\n      <td>2017-12-01</td>\n      <td>...</td>\n      <td>1.0</td>\n      <td>7.000000</td>\n      <td>0.000000</td>\n      <td>9.00000</td>\n      <td>11.000000</td>\n      <td>6.000000</td>\n      <td>0</td>\n      <td>10</td>\n      <td>2006</td>\n      <td>4</td>\n    </tr>\n    <tr>\n      <th>749999</th>\n      <td>9.680406</td>\n      <td>5</td>\n      <td>19.22</td>\n      <td>6.035458</td>\n      <td>3</td>\n      <td>2</td>\n      <td>10</td>\n      <td>1</td>\n      <td>1</td>\n      <td>2013-12-01</td>\n      <td>...</td>\n      <td>1.0</td>\n      <td>7.000000</td>\n      <td>0.000000</td>\n      <td>9.00000</td>\n      <td>13.000000</td>\n      <td>6.000000</td>\n      <td>0</td>\n      <td>3</td>\n      <td>2001</td>\n      <td>2</td>\n    </tr>\n  </tbody>\n</table>\n<p>750000 rows × 34 columns</p>\n</div>"
     },
     "execution_count": 134,
     "metadata": {},
     "output_type": "execute_result"
    }
   ],
   "source": [
    "inter_data"
   ],
   "metadata": {
    "collapsed": false,
    "ExecuteTime": {
     "end_time": "2024-05-07T19:04:42.605265600Z",
     "start_time": "2024-05-07T19:04:42.415128600Z"
    }
   },
   "id": "2fc334a75637bb37"
  },
  {
   "cell_type": "code",
   "execution_count": 135,
   "outputs": [
    {
     "name": "stdout",
     "output_type": "stream",
     "text": [
      "total_loan                  float64\n",
      "year_of_loan                  int64\n",
      "interest                    float64\n",
      "monthly_payment             float64\n",
      "class                         int64\n",
      "employer_type                 int32\n",
      "industry                      int32\n",
      "house_exist                   int64\n",
      "censor_status                 int64\n",
      "issue_date                   object\n",
      "use                           int64\n",
      "post_code                     int64\n",
      "region                        int64\n",
      "debt_loan_ratio             float64\n",
      "del_in_18month                int64\n",
      "scoring_high                float64\n",
      "pub_dero_bankrup            float64\n",
      "recircle_b                  float64\n",
      "recircle_u                  float64\n",
      "initial_list_status           int64\n",
      "title                       float64\n",
      "policy_code                   int64\n",
      "f0                          float64\n",
      "f1                          float64\n",
      "f2                          float64\n",
      "f3                          float64\n",
      "f4                          float64\n",
      "early_return                  int64\n",
      "early_return_amount         float64\n",
      "early_return_amount_3mon    float64\n",
      "isDefault                     int64\n",
      "new_work_year                 int64\n",
      "feature_year                  int64\n",
      "feature_month                 int64\n",
      "dtype: object\n"
     ]
    }
   ],
   "source": [
    "print(pub_data.dtypes)"
   ],
   "metadata": {
    "collapsed": false,
    "ExecuteTime": {
     "end_time": "2024-05-07T19:04:44.678380500Z",
     "start_time": "2024-05-07T19:04:44.666668900Z"
    }
   },
   "id": "26a673ead7f0681f"
  },
  {
   "cell_type": "code",
   "execution_count": 136,
   "outputs": [
    {
     "name": "stdout",
     "output_type": "stream",
     "text": [
      "total_loan                  float64\n",
      "year_of_loan                  int64\n",
      "interest                    float64\n",
      "monthly_payment             float64\n",
      "class                         int64\n",
      "employer_type                 int32\n",
      "industry                      int32\n",
      "house_exist                   int64\n",
      "censor_status                 int64\n",
      "issue_date                   object\n",
      "use                           int64\n",
      "post_code                   float64\n",
      "region                        int64\n",
      "debt_loan_ratio             float64\n",
      "del_in_18month              float64\n",
      "scoring_high                float64\n",
      "pub_dero_bankrup            float64\n",
      "early_return                  int64\n",
      "early_return_amount         float64\n",
      "early_return_amount_3mon    float64\n",
      "recircle_b                  float64\n",
      "recircle_u                  float64\n",
      "initial_list_status           int64\n",
      "title                       float64\n",
      "policy_code                 float64\n",
      "f0                          float64\n",
      "f1                          float64\n",
      "f2                          float64\n",
      "f3                          float64\n",
      "f4                          float64\n",
      "isDefault                     int64\n",
      "new_work_year                 int64\n",
      "feature_year                  int64\n",
      "feature_month                 int64\n",
      "dtype: object\n"
     ]
    }
   ],
   "source": [
    "print(inter_data.dtypes)"
   ],
   "metadata": {
    "collapsed": false,
    "ExecuteTime": {
     "end_time": "2024-05-07T19:04:48.652745800Z",
     "start_time": "2024-05-07T19:04:48.631904600Z"
    }
   },
   "id": "c19f752ac52a501"
  },
  {
   "cell_type": "code",
   "execution_count": 137,
   "outputs": [],
   "source": [
    "#统一类型\n",
    "def unify(df1, df2):\n",
    "    # 将所有数值类型统一到df1的数值类型\n",
    "    numeric_cols_df1 = df1.select_dtypes(include='number').columns\n",
    "    # 将df2中数值类型列转换为df1的数值类型\n",
    "    numeric_cols_df2 = df2.select_dtypes(include='number').columns\n",
    "    for col in numeric_cols_df2:\n",
    "        if col in numeric_cols_df1:\n",
    "            df2[col] = df2[col].astype(df1[col].dtype)\n",
    "    # 将internet数据的issue_date列转化为斜杠形式\n",
    "    df2['issue_date'] = pd.to_datetime(df2['issue_date']).dt.strftime('%Y/%m/%d')\n",
    "\n",
    "    return df1, df2\n"
   ],
   "metadata": {
    "collapsed": false,
    "ExecuteTime": {
     "end_time": "2024-05-07T19:04:52.814482500Z",
     "start_time": "2024-05-07T19:04:52.792888400Z"
    }
   },
   "id": "6cdd1b12272ec0a7"
  },
  {
   "cell_type": "code",
   "execution_count": 138,
   "outputs": [],
   "source": [
    "pub_data,inter_data=unify(pub_data,inter_data)"
   ],
   "metadata": {
    "collapsed": false,
    "ExecuteTime": {
     "end_time": "2024-05-07T19:04:59.531158900Z",
     "start_time": "2024-05-07T19:04:55.849173400Z"
    }
   },
   "id": "a8c094e801903f73"
  },
  {
   "cell_type": "code",
   "execution_count": 139,
   "outputs": [],
   "source": [
    "#合并数据\n",
    "merge_data=concat_df(public_data,internet_data)"
   ],
   "metadata": {
    "collapsed": false,
    "ExecuteTime": {
     "end_time": "2024-05-07T19:05:01.954976300Z",
     "start_time": "2024-05-07T19:05:01.901322800Z"
    }
   },
   "id": "58ff5285edcdc64f"
  },
  {
   "cell_type": "code",
   "execution_count": 140,
   "outputs": [
    {
     "data": {
      "text/plain": "        total_loan  year_of_loan  interest  monthly_payment  class  \\\n0        10.367825             3    11.466         7.069798      2   \n1        10.239996             5    16.841         6.509797      2   \n2         9.756942             3     8.900         6.404104      0   \n3         9.903538             3     4.788         6.402415      0   \n4         9.633889             3    12.790         6.155516      2   \n...            ...           ...       ...              ...    ...   \n759995    9.392745             3    11.470         5.982802      1   \n759996    9.392745             3     6.030         5.903262      0   \n759997    9.210440             3    15.410         5.856990      3   \n759998    8.881975             3     9.440         5.444321      1   \n759999    9.680406             5    19.220         6.035458      3   \n\n        employer_type  industry  house_exist  censor_status  issue_date  ...  \\\n0                   3        13            0              1   2016/10/1  ...   \n1                   3        13            0              2    2013/6/1  ...   \n2                   3         3            1              0    2014/1/1  ...   \n3                   1        10            0              1    2015/7/1  ...   \n4                   3         2            2              1    2016/7/1  ...   \n...               ...       ...          ...            ...         ...  ...   \n759995              0        10            0              1  2016/02/01  ...   \n759996              3         1            1              2  2014/03/01  ...   \n759997              3         1            1              2  2015/12/01  ...   \n759998              3         2            2              2  2017/12/01  ...   \n759999              2        10            1              1  2013/12/01  ...   \n\n          f3    f4  early_return  early_return_amount  \\\n0        5.0   4.0             3             9.203114   \n1       45.0  22.0             0             0.000000   \n2       28.0  19.0             0             0.000000   \n3       15.0   9.0             0             0.000000   \n4       15.0   4.0             0             0.000000   \n...      ...   ...           ...                  ...   \n759995  22.0  12.0             0             0.000000   \n759996   4.0   4.0             6             6.698268   \n759997  11.0   3.0             0             0.000000   \n759998  11.0   6.0             0             0.000000   \n759999  13.0   6.0             0             0.000000   \n\n        early_return_amount_3mon  isDefault  new_work_year  feature_year  \\\n0                        0.00000          0              3          2001   \n1                        0.00000          0             10          1990   \n2                        0.00000          0             10          1991   \n3                        0.00000          0              6          2001   \n4                        0.00000          0              0          2002   \n...                          ...        ...            ...           ...   \n759995                   0.00000          0              4          1995   \n759996                   5.86902          0              8          2001   \n759997                   0.00000          0              8          2008   \n759998                   0.00000          0             10          2006   \n759999                   0.00000          0              3          2001   \n\n        feature_month  target  \n0                  12       0  \n1                   4       0  \n2                  10       0  \n3                   6       0  \n4                   5       0  \n...               ...     ...  \n759995              6       1  \n759996              9       1  \n759997             10       1  \n759998              4       1  \n759999              2       1  \n\n[760000 rows x 35 columns]",
      "text/html": "<div>\n<style scoped>\n    .dataframe tbody tr th:only-of-type {\n        vertical-align: middle;\n    }\n\n    .dataframe tbody tr th {\n        vertical-align: top;\n    }\n\n    .dataframe thead th {\n        text-align: right;\n    }\n</style>\n<table border=\"1\" class=\"dataframe\">\n  <thead>\n    <tr style=\"text-align: right;\">\n      <th></th>\n      <th>total_loan</th>\n      <th>year_of_loan</th>\n      <th>interest</th>\n      <th>monthly_payment</th>\n      <th>class</th>\n      <th>employer_type</th>\n      <th>industry</th>\n      <th>house_exist</th>\n      <th>censor_status</th>\n      <th>issue_date</th>\n      <th>...</th>\n      <th>f3</th>\n      <th>f4</th>\n      <th>early_return</th>\n      <th>early_return_amount</th>\n      <th>early_return_amount_3mon</th>\n      <th>isDefault</th>\n      <th>new_work_year</th>\n      <th>feature_year</th>\n      <th>feature_month</th>\n      <th>target</th>\n    </tr>\n  </thead>\n  <tbody>\n    <tr>\n      <th>0</th>\n      <td>10.367825</td>\n      <td>3</td>\n      <td>11.466</td>\n      <td>7.069798</td>\n      <td>2</td>\n      <td>3</td>\n      <td>13</td>\n      <td>0</td>\n      <td>1</td>\n      <td>2016/10/1</td>\n      <td>...</td>\n      <td>5.0</td>\n      <td>4.0</td>\n      <td>3</td>\n      <td>9.203114</td>\n      <td>0.00000</td>\n      <td>0</td>\n      <td>3</td>\n      <td>2001</td>\n      <td>12</td>\n      <td>0</td>\n    </tr>\n    <tr>\n      <th>1</th>\n      <td>10.239996</td>\n      <td>5</td>\n      <td>16.841</td>\n      <td>6.509797</td>\n      <td>2</td>\n      <td>3</td>\n      <td>13</td>\n      <td>0</td>\n      <td>2</td>\n      <td>2013/6/1</td>\n      <td>...</td>\n      <td>45.0</td>\n      <td>22.0</td>\n      <td>0</td>\n      <td>0.000000</td>\n      <td>0.00000</td>\n      <td>0</td>\n      <td>10</td>\n      <td>1990</td>\n      <td>4</td>\n      <td>0</td>\n    </tr>\n    <tr>\n      <th>2</th>\n      <td>9.756942</td>\n      <td>3</td>\n      <td>8.900</td>\n      <td>6.404104</td>\n      <td>0</td>\n      <td>3</td>\n      <td>3</td>\n      <td>1</td>\n      <td>0</td>\n      <td>2014/1/1</td>\n      <td>...</td>\n      <td>28.0</td>\n      <td>19.0</td>\n      <td>0</td>\n      <td>0.000000</td>\n      <td>0.00000</td>\n      <td>0</td>\n      <td>10</td>\n      <td>1991</td>\n      <td>10</td>\n      <td>0</td>\n    </tr>\n    <tr>\n      <th>3</th>\n      <td>9.903538</td>\n      <td>3</td>\n      <td>4.788</td>\n      <td>6.402415</td>\n      <td>0</td>\n      <td>1</td>\n      <td>10</td>\n      <td>0</td>\n      <td>1</td>\n      <td>2015/7/1</td>\n      <td>...</td>\n      <td>15.0</td>\n      <td>9.0</td>\n      <td>0</td>\n      <td>0.000000</td>\n      <td>0.00000</td>\n      <td>0</td>\n      <td>6</td>\n      <td>2001</td>\n      <td>6</td>\n      <td>0</td>\n    </tr>\n    <tr>\n      <th>4</th>\n      <td>9.633889</td>\n      <td>3</td>\n      <td>12.790</td>\n      <td>6.155516</td>\n      <td>2</td>\n      <td>3</td>\n      <td>2</td>\n      <td>2</td>\n      <td>1</td>\n      <td>2016/7/1</td>\n      <td>...</td>\n      <td>15.0</td>\n      <td>4.0</td>\n      <td>0</td>\n      <td>0.000000</td>\n      <td>0.00000</td>\n      <td>0</td>\n      <td>0</td>\n      <td>2002</td>\n      <td>5</td>\n      <td>0</td>\n    </tr>\n    <tr>\n      <th>...</th>\n      <td>...</td>\n      <td>...</td>\n      <td>...</td>\n      <td>...</td>\n      <td>...</td>\n      <td>...</td>\n      <td>...</td>\n      <td>...</td>\n      <td>...</td>\n      <td>...</td>\n      <td>...</td>\n      <td>...</td>\n      <td>...</td>\n      <td>...</td>\n      <td>...</td>\n      <td>...</td>\n      <td>...</td>\n      <td>...</td>\n      <td>...</td>\n      <td>...</td>\n      <td>...</td>\n    </tr>\n    <tr>\n      <th>759995</th>\n      <td>9.392745</td>\n      <td>3</td>\n      <td>11.470</td>\n      <td>5.982802</td>\n      <td>1</td>\n      <td>0</td>\n      <td>10</td>\n      <td>0</td>\n      <td>1</td>\n      <td>2016/02/01</td>\n      <td>...</td>\n      <td>22.0</td>\n      <td>12.0</td>\n      <td>0</td>\n      <td>0.000000</td>\n      <td>0.00000</td>\n      <td>0</td>\n      <td>4</td>\n      <td>1995</td>\n      <td>6</td>\n      <td>1</td>\n    </tr>\n    <tr>\n      <th>759996</th>\n      <td>9.392745</td>\n      <td>3</td>\n      <td>6.030</td>\n      <td>5.903262</td>\n      <td>0</td>\n      <td>3</td>\n      <td>1</td>\n      <td>1</td>\n      <td>2</td>\n      <td>2014/03/01</td>\n      <td>...</td>\n      <td>4.0</td>\n      <td>4.0</td>\n      <td>6</td>\n      <td>6.698268</td>\n      <td>5.86902</td>\n      <td>0</td>\n      <td>8</td>\n      <td>2001</td>\n      <td>9</td>\n      <td>1</td>\n    </tr>\n    <tr>\n      <th>759997</th>\n      <td>9.210440</td>\n      <td>3</td>\n      <td>15.410</td>\n      <td>5.856990</td>\n      <td>3</td>\n      <td>3</td>\n      <td>1</td>\n      <td>1</td>\n      <td>2</td>\n      <td>2015/12/01</td>\n      <td>...</td>\n      <td>11.0</td>\n      <td>3.0</td>\n      <td>0</td>\n      <td>0.000000</td>\n      <td>0.00000</td>\n      <td>0</td>\n      <td>8</td>\n      <td>2008</td>\n      <td>10</td>\n      <td>1</td>\n    </tr>\n    <tr>\n      <th>759998</th>\n      <td>8.881975</td>\n      <td>3</td>\n      <td>9.440</td>\n      <td>5.444321</td>\n      <td>1</td>\n      <td>3</td>\n      <td>2</td>\n      <td>2</td>\n      <td>2</td>\n      <td>2017/12/01</td>\n      <td>...</td>\n      <td>11.0</td>\n      <td>6.0</td>\n      <td>0</td>\n      <td>0.000000</td>\n      <td>0.00000</td>\n      <td>0</td>\n      <td>10</td>\n      <td>2006</td>\n      <td>4</td>\n      <td>1</td>\n    </tr>\n    <tr>\n      <th>759999</th>\n      <td>9.680406</td>\n      <td>5</td>\n      <td>19.220</td>\n      <td>6.035458</td>\n      <td>3</td>\n      <td>2</td>\n      <td>10</td>\n      <td>1</td>\n      <td>1</td>\n      <td>2013/12/01</td>\n      <td>...</td>\n      <td>13.0</td>\n      <td>6.0</td>\n      <td>0</td>\n      <td>0.000000</td>\n      <td>0.00000</td>\n      <td>0</td>\n      <td>3</td>\n      <td>2001</td>\n      <td>2</td>\n      <td>1</td>\n    </tr>\n  </tbody>\n</table>\n<p>760000 rows × 35 columns</p>\n</div>"
     },
     "execution_count": 140,
     "metadata": {},
     "output_type": "execute_result"
    }
   ],
   "source": [
    "merge_data"
   ],
   "metadata": {
    "collapsed": false,
    "ExecuteTime": {
     "end_time": "2024-05-07T19:05:04.212655100Z",
     "start_time": "2024-05-07T19:05:03.968581200Z"
    }
   },
   "id": "bfc7ee5967e762d5"
  },
  {
   "cell_type": "code",
   "execution_count": 141,
   "outputs": [
    {
     "name": "stderr",
     "output_type": "stream",
     "text": [
      "No path specified. Models will be saved in: \"AutogluonModels\\ag-20240507_190505\"\n",
      "Presets specified: ['medium_quality']\n",
      "Beginning AutoGluon training ...\n",
      "AutoGluon will save models to \"AutogluonModels\\ag-20240507_190505\"\n",
      "=================== System Info ===================\n",
      "AutoGluon Version:  1.1.0\n",
      "Python Version:     3.9.12\n",
      "Operating System:   Windows\n",
      "Platform Machine:   AMD64\n",
      "Platform Version:   10.0.22631\n",
      "CPU Count:          12\n",
      "Memory Avail:       2.38 GB / 15.86 GB (15.0%)\n",
      "Disk Space Avail:   18.72 GB / 200.00 GB (9.4%)\n",
      "===================================================\n",
      "Train Data Rows:    12000\n",
      "Train Data Columns: 34\n",
      "Label Column:       target\n",
      "AutoGluon infers your prediction problem is: 'binary' (because only two unique label-values observed).\n",
      "\t2 unique label values:  [0, 1]\n",
      "\tIf 'binary' is not the correct problem_type, please manually specify the problem_type parameter during predictor init (You may specify problem_type as one of: ['binary', 'multiclass', 'regression'])\n",
      "Problem Type:       binary\n",
      "Preprocessing data ...\n",
      "Selected class <--> label mapping:  class 1 = 1, class 0 = 0\n",
      "Using Feature Generators to preprocess the data ...\n",
      "Fitting AutoMLPipelineFeatureGenerator...\n",
      "\tAvailable Memory:                    2433.31 MB\n",
      "\tTrain Data (Original)  Memory Usage: 3.68 MB (0.2% of available memory)\n",
      "\tInferring data type of each feature based on column values. Set feature_metadata_in to manually specify special dtypes of the features.\n",
      "\tStage 1 Generators:\n",
      "\t\tFitting AsTypeFeatureGenerator...\n",
      "\t\t\tNote: Converting 3 features to boolean dtype as they only contain 2 unique values.\n",
      "\tStage 2 Generators:\n",
      "\t\tFitting FillNaFeatureGenerator...\n",
      "\tStage 3 Generators:\n",
      "\t\tFitting IdentityFeatureGenerator...\n",
      "\t\tFitting DatetimeFeatureGenerator...\n",
      "\tStage 4 Generators:\n",
      "\t\tFitting DropUniqueFeatureGenerator...\n",
      "\tStage 5 Generators:\n",
      "\t\tFitting DropDuplicatesFeatureGenerator...\n",
      "\tUseless Original Features (Count: 1): ['policy_code']\n",
      "\t\tThese features carry no predictive signal and should be manually investigated.\n",
      "\t\tThis is typically a feature which has the same value for all rows.\n",
      "\t\tThese features do not need to be present at inference time.\n",
      "\tTypes of features in original data (raw dtype, special dtypes):\n",
      "\t\t('float', [])                      : 16 | ['total_loan', 'interest', 'monthly_payment', 'debt_loan_ratio', 'scoring_high', ...]\n",
      "\t\t('int', [])                        : 16 | ['year_of_loan', 'class', 'employer_type', 'industry', 'house_exist', ...]\n",
      "\t\t('object', ['datetime_as_object']) :  1 | ['issue_date']\n",
      "\tTypes of features in processed data (raw dtype, special dtypes):\n",
      "\t\t('float', [])                : 16 | ['total_loan', 'interest', 'monthly_payment', 'debt_loan_ratio', 'scoring_high', ...]\n",
      "\t\t('int', [])                  : 13 | ['class', 'employer_type', 'industry', 'house_exist', 'censor_status', ...]\n",
      "\t\t('int', ['bool'])            :  3 | ['year_of_loan', 'initial_list_status', 'isDefault']\n",
      "\t\t('int', ['datetime_as_int']) :  4 | ['issue_date', 'issue_date.year', 'issue_date.month', 'issue_date.dayofweek']\n",
      "\t0.1s = Fit runtime\n",
      "\t33 features in original data used to generate 36 features in processed data.\n",
      "\tTrain Data (Processed) Memory Usage: 2.96 MB (0.1% of available memory)\n",
      "Data preprocessing and feature engineering runtime = 0.12s ...\n",
      "AutoGluon will gauge predictive performance using evaluation metric: 'roc_auc'\n",
      "\tThis metric expects predicted probabilities rather than predicted class labels, so you'll need to use predict_proba() instead of predict()\n",
      "\tTo change this, specify the eval_metric parameter of Predictor()\n",
      "Automatically generating train/validation split with holdout_frac=0.1, Train Rows: 10800, Val Rows: 1200\n",
      "User-specified model hyperparameters to be fit:\n",
      "{\n",
      "\t'GBM': [{'extra_trees': True, 'ag_args': {'name_suffix': 'XT'}}, {}, 'GBMLarge'],\n",
      "\t'CAT': {'iterations': 50, 'learning_rate': 0.1, 'depth': 6},\n",
      "\t'XGB': {'n_estimators': 50, 'learning_rate': 0.1, 'max_depth': 6},\n",
      "}\n",
      "Fitting 5 L1 models ...\n",
      "Fitting model: LightGBMXT ...\n",
      "\t0.9792\t = Validation score   (roc_auc)\n",
      "\t1.71s\t = Training   runtime\n",
      "\t0.01s\t = Validation runtime\n",
      "Fitting model: LightGBM ...\n",
      "\t0.9998\t = Validation score   (roc_auc)\n",
      "\t1.28s\t = Training   runtime\n",
      "\t0.01s\t = Validation runtime\n",
      "Fitting model: CatBoost ...\n",
      "\t0.9921\t = Validation score   (roc_auc)\n",
      "\t0.33s\t = Training   runtime\n",
      "\t0.0s\t = Validation runtime\n",
      "Fitting model: XGBoost ...\n",
      "\t0.9953\t = Validation score   (roc_auc)\n",
      "\t0.17s\t = Training   runtime\n",
      "\t0.01s\t = Validation runtime\n",
      "Fitting model: LightGBMLarge ...\n",
      "\t0.9995\t = Validation score   (roc_auc)\n",
      "\t2.0s\t = Training   runtime\n",
      "\t0.01s\t = Validation runtime\n",
      "Fitting model: WeightedEnsemble_L2 ...\n",
      "\tEnsemble Weights: {'LightGBM': 1.0}\n",
      "\t0.9998\t = Validation score   (roc_auc)\n",
      "\t0.06s\t = Training   runtime\n",
      "\t0.0s\t = Validation runtime\n",
      "AutoGluon training complete, total runtime = 5.89s ... Best model: \"WeightedEnsemble_L2\"\n",
      "TabularPredictor saved. To load, use: predictor = TabularPredictor.load(\"AutogluonModels\\ag-20240507_190505\")\n"
     ]
    }
   ],
   "source": [
    "#二分类问题\n",
    "hyperparameters = {\n",
    "    'GBM': [{'extra_trees': True, 'ag_args': {'name_suffix': 'XT'}}, {}, 'GBMLarge'],\n",
    "    'CAT': {'iterations': 50, 'learning_rate': 0.1, 'depth': 6},\n",
    "    'XGB': {'n_estimators': 50, 'learning_rate': 0.1, 'max_depth': 6},\n",
    "}\n",
    "\n",
    "\n",
    "predictor_p_i = TabularPredictor(label='target',eval_metric=\"roc_auc\").fit(merge_data.head(12000), presets='medium_quality',hyperparameters=hyperparameters)"
   ],
   "metadata": {
    "collapsed": false,
    "ExecuteTime": {
     "end_time": "2024-05-07T19:05:11.495233900Z",
     "start_time": "2024-05-07T19:05:05.547518700Z"
    }
   },
   "id": "cf8973db0fc3a084"
  },
  {
   "cell_type": "code",
   "execution_count": 142,
   "outputs": [
    {
     "data": {
      "text/plain": "                 model  score_val eval_metric  pred_time_val  fit_time  \\\n0  WeightedEnsemble_L2   0.999810     roc_auc       0.007005  1.341226   \n1             LightGBM   0.999810     roc_auc       0.007005  1.283221   \n2        LightGBMLarge   0.999525     roc_auc       0.005999  2.001281   \n3              XGBoost   0.995320     roc_auc       0.005006  0.165813   \n4             CatBoost   0.992055     roc_auc       0.002174  0.327661   \n5           LightGBMXT   0.979180     roc_auc       0.010752  1.713536   \n\n   pred_time_val_marginal  fit_time_marginal  stack_level  can_infer  \\\n0                0.000000           0.058004            2       True   \n1                0.007005           1.283221            1       True   \n2                0.005999           2.001281            1       True   \n3                0.005006           0.165813            1       True   \n4                0.002174           0.327661            1       True   \n5                0.010752           1.713536            1       True   \n\n   fit_order  \n0          6  \n1          2  \n2          5  \n3          4  \n4          3  \n5          1  ",
      "text/html": "<div>\n<style scoped>\n    .dataframe tbody tr th:only-of-type {\n        vertical-align: middle;\n    }\n\n    .dataframe tbody tr th {\n        vertical-align: top;\n    }\n\n    .dataframe thead th {\n        text-align: right;\n    }\n</style>\n<table border=\"1\" class=\"dataframe\">\n  <thead>\n    <tr style=\"text-align: right;\">\n      <th></th>\n      <th>model</th>\n      <th>score_val</th>\n      <th>eval_metric</th>\n      <th>pred_time_val</th>\n      <th>fit_time</th>\n      <th>pred_time_val_marginal</th>\n      <th>fit_time_marginal</th>\n      <th>stack_level</th>\n      <th>can_infer</th>\n      <th>fit_order</th>\n    </tr>\n  </thead>\n  <tbody>\n    <tr>\n      <th>0</th>\n      <td>WeightedEnsemble_L2</td>\n      <td>0.999810</td>\n      <td>roc_auc</td>\n      <td>0.007005</td>\n      <td>1.341226</td>\n      <td>0.000000</td>\n      <td>0.058004</td>\n      <td>2</td>\n      <td>True</td>\n      <td>6</td>\n    </tr>\n    <tr>\n      <th>1</th>\n      <td>LightGBM</td>\n      <td>0.999810</td>\n      <td>roc_auc</td>\n      <td>0.007005</td>\n      <td>1.283221</td>\n      <td>0.007005</td>\n      <td>1.283221</td>\n      <td>1</td>\n      <td>True</td>\n      <td>2</td>\n    </tr>\n    <tr>\n      <th>2</th>\n      <td>LightGBMLarge</td>\n      <td>0.999525</td>\n      <td>roc_auc</td>\n      <td>0.005999</td>\n      <td>2.001281</td>\n      <td>0.005999</td>\n      <td>2.001281</td>\n      <td>1</td>\n      <td>True</td>\n      <td>5</td>\n    </tr>\n    <tr>\n      <th>3</th>\n      <td>XGBoost</td>\n      <td>0.995320</td>\n      <td>roc_auc</td>\n      <td>0.005006</td>\n      <td>0.165813</td>\n      <td>0.005006</td>\n      <td>0.165813</td>\n      <td>1</td>\n      <td>True</td>\n      <td>4</td>\n    </tr>\n    <tr>\n      <th>4</th>\n      <td>CatBoost</td>\n      <td>0.992055</td>\n      <td>roc_auc</td>\n      <td>0.002174</td>\n      <td>0.327661</td>\n      <td>0.002174</td>\n      <td>0.327661</td>\n      <td>1</td>\n      <td>True</td>\n      <td>3</td>\n    </tr>\n    <tr>\n      <th>5</th>\n      <td>LightGBMXT</td>\n      <td>0.979180</td>\n      <td>roc_auc</td>\n      <td>0.010752</td>\n      <td>1.713536</td>\n      <td>0.010752</td>\n      <td>1.713536</td>\n      <td>1</td>\n      <td>True</td>\n      <td>1</td>\n    </tr>\n  </tbody>\n</table>\n</div>"
     },
     "execution_count": 142,
     "metadata": {},
     "output_type": "execute_result"
    }
   ],
   "source": [
    "predictor_p_i.leaderboard()\n"
   ],
   "metadata": {
    "collapsed": false,
    "ExecuteTime": {
     "end_time": "2024-05-07T19:05:12.662068400Z",
     "start_time": "2024-05-07T19:05:12.641640300Z"
    }
   },
   "id": "235197cbf69282c3"
  },
  {
   "cell_type": "code",
   "execution_count": 143,
   "outputs": [
    {
     "name": "stderr",
     "output_type": "stream",
     "text": [
      "These features in provided data are not utilized by the predictor and will be ignored: ['policy_code']\n",
      "Computing feature importance via permutation shuffling for 33 features using 5000 rows with 5 shuffle sets...\n",
      "\t7.2s\t= Expected runtime (1.44s per shuffle set)\n",
      "\t4.04s\t= Actual runtime (Completed 5 of 5 shuffle sets)\n"
     ]
    },
    {
     "data": {
      "text/plain": "                            importance        stddev       p_value  n  \\\nscoring_high              2.360167e-01  1.214824e-02  8.393266e-07  5   \nearly_return_amount       6.760091e-02  2.961158e-03  4.406634e-07  5   \nearly_return              4.779187e-03  5.649215e-04  2.299693e-05  5   \nrecircle_u                5.880243e-04  1.569876e-04  5.557452e-04  5   \nf1                        2.693958e-04  3.823513e-05  4.741252e-05  5   \ninterest                  1.784340e-04  7.778051e-05  3.419973e-03  5   \nfeature_year              7.185193e-05  8.055889e-05  5.843151e-02  5   \nf0                        5.459145e-06  4.093566e-06  2.032915e-02  5   \nisDefault                 3.903168e-06  3.435636e-06  3.197826e-02  5   \ntotal_loan                3.181244e-06  3.622075e-06  6.050456e-02  5   \ndebt_loan_ratio           3.176114e-06  3.127779e-06  4.283435e-02  5   \nissue_date                2.803381e-06  1.863798e-06  1.410891e-02  5   \nrecircle_b                2.393395e-06  2.015956e-06  2.835095e-02  5   \nf4                        1.020738e-06  1.362018e-06  8.454522e-02  5   \npost_code                 7.427264e-07  7.963863e-07  5.268844e-02  5   \nfeature_month             6.861349e-07  5.903356e-07  3.005772e-02  5   \nf2                        6.839563e-07  9.601208e-07  9.320135e-02  5   \nmonthly_payment           6.247603e-07  5.038558e-07  2.509778e-02  5   \npub_dero_bankrup          5.716363e-07  6.733469e-07  6.524688e-02  5   \nindustry                  3.402198e-07  4.638939e-07  8.818136e-02  5   \nf3                        2.833432e-07  4.891896e-07  1.324812e-01  5   \nuse                       2.797220e-07  9.813180e-07  2.792650e-01  5   \nnew_work_year             2.282116e-07  2.369969e-07  4.881642e-02  5   \nemployer_type             2.281592e-07  1.275802e-07  8.072489e-03  5   \nearly_return_amount_3mon  2.253974e-07  3.706516e-07  1.227492e-01  5   \nyear_of_loan              1.695112e-07  5.505062e-07  2.644872e-01  5   \nregion                    1.147964e-07  2.566925e-07  1.869505e-01  5   \ncensor_status             5.784093e-08  1.293363e-07  1.869505e-01  5   \ntitle                     5.648626e-08  1.263071e-07  1.869505e-01  5   \ninitial_list_status       5.648626e-08  1.263071e-07  1.869505e-01  5   \nhouse_exist              -9.119198e-10  2.013250e-07  5.037981e-01  5   \nclass                    -5.739818e-08  1.283462e-07  8.130495e-01  5   \ndel_in_18month           -5.831010e-08  3.131382e-07  6.507489e-01  5   \n\n                              p99_high       p99_low  \nscoring_high              2.610300e-01  2.110033e-01  \nearly_return_amount       7.369797e-02  6.150384e-02  \nearly_return              5.942368e-03  3.616006e-03  \nrecircle_u                9.112638e-04  2.647847e-04  \nf1                        3.481224e-04  1.906691e-04  \ninterest                  3.385851e-04  1.828280e-05  \nfeature_year              2.377238e-04 -9.401995e-05  \nf0                        1.388785e-05 -2.969564e-06  \nisDefault                 1.097719e-05 -3.170854e-06  \ntotal_loan                1.063915e-05 -4.276659e-06  \ndebt_loan_ratio           9.616255e-06 -3.264027e-06  \nissue_date                6.640967e-06 -1.034205e-06  \nrecircle_b                6.544277e-06 -1.757487e-06  \nf4                        3.825152e-06 -1.783675e-06  \npost_code                 2.382497e-06 -8.970440e-07  \nfeature_month             1.901644e-06 -5.293743e-07  \nf2                        2.660858e-06 -1.292946e-06  \nmonthly_payment           1.662206e-06 -4.126858e-07  \npub_dero_bankrup          1.958067e-06 -8.147941e-07  \nindustry                  1.295384e-06 -6.149442e-07  \nf3                        1.290591e-06 -7.239050e-07  \nuse                       2.300269e-06 -1.740825e-06  \nnew_work_year             7.161915e-07 -2.597683e-07  \nemployer_type             4.908486e-07 -3.453028e-08  \nearly_return_amount_3mon  9.885741e-07 -5.377794e-07  \nyear_of_loan              1.303011e-06 -9.639886e-07  \nregion                    6.433297e-07 -4.137370e-07  \ncensor_status             3.241461e-07 -2.084642e-07  \ntitle                     3.165544e-07 -2.035818e-07  \ninitial_list_status       3.165544e-07 -2.035818e-07  \nhouse_exist               4.136191e-07 -4.154429e-07  \nclass                     2.068685e-07 -3.216648e-07  \ndel_in_18month            5.864459e-07 -7.030661e-07  ",
      "text/html": "<div>\n<style scoped>\n    .dataframe tbody tr th:only-of-type {\n        vertical-align: middle;\n    }\n\n    .dataframe tbody tr th {\n        vertical-align: top;\n    }\n\n    .dataframe thead th {\n        text-align: right;\n    }\n</style>\n<table border=\"1\" class=\"dataframe\">\n  <thead>\n    <tr style=\"text-align: right;\">\n      <th></th>\n      <th>importance</th>\n      <th>stddev</th>\n      <th>p_value</th>\n      <th>n</th>\n      <th>p99_high</th>\n      <th>p99_low</th>\n    </tr>\n  </thead>\n  <tbody>\n    <tr>\n      <th>scoring_high</th>\n      <td>2.360167e-01</td>\n      <td>1.214824e-02</td>\n      <td>8.393266e-07</td>\n      <td>5</td>\n      <td>2.610300e-01</td>\n      <td>2.110033e-01</td>\n    </tr>\n    <tr>\n      <th>early_return_amount</th>\n      <td>6.760091e-02</td>\n      <td>2.961158e-03</td>\n      <td>4.406634e-07</td>\n      <td>5</td>\n      <td>7.369797e-02</td>\n      <td>6.150384e-02</td>\n    </tr>\n    <tr>\n      <th>early_return</th>\n      <td>4.779187e-03</td>\n      <td>5.649215e-04</td>\n      <td>2.299693e-05</td>\n      <td>5</td>\n      <td>5.942368e-03</td>\n      <td>3.616006e-03</td>\n    </tr>\n    <tr>\n      <th>recircle_u</th>\n      <td>5.880243e-04</td>\n      <td>1.569876e-04</td>\n      <td>5.557452e-04</td>\n      <td>5</td>\n      <td>9.112638e-04</td>\n      <td>2.647847e-04</td>\n    </tr>\n    <tr>\n      <th>f1</th>\n      <td>2.693958e-04</td>\n      <td>3.823513e-05</td>\n      <td>4.741252e-05</td>\n      <td>5</td>\n      <td>3.481224e-04</td>\n      <td>1.906691e-04</td>\n    </tr>\n    <tr>\n      <th>interest</th>\n      <td>1.784340e-04</td>\n      <td>7.778051e-05</td>\n      <td>3.419973e-03</td>\n      <td>5</td>\n      <td>3.385851e-04</td>\n      <td>1.828280e-05</td>\n    </tr>\n    <tr>\n      <th>feature_year</th>\n      <td>7.185193e-05</td>\n      <td>8.055889e-05</td>\n      <td>5.843151e-02</td>\n      <td>5</td>\n      <td>2.377238e-04</td>\n      <td>-9.401995e-05</td>\n    </tr>\n    <tr>\n      <th>f0</th>\n      <td>5.459145e-06</td>\n      <td>4.093566e-06</td>\n      <td>2.032915e-02</td>\n      <td>5</td>\n      <td>1.388785e-05</td>\n      <td>-2.969564e-06</td>\n    </tr>\n    <tr>\n      <th>isDefault</th>\n      <td>3.903168e-06</td>\n      <td>3.435636e-06</td>\n      <td>3.197826e-02</td>\n      <td>5</td>\n      <td>1.097719e-05</td>\n      <td>-3.170854e-06</td>\n    </tr>\n    <tr>\n      <th>total_loan</th>\n      <td>3.181244e-06</td>\n      <td>3.622075e-06</td>\n      <td>6.050456e-02</td>\n      <td>5</td>\n      <td>1.063915e-05</td>\n      <td>-4.276659e-06</td>\n    </tr>\n    <tr>\n      <th>debt_loan_ratio</th>\n      <td>3.176114e-06</td>\n      <td>3.127779e-06</td>\n      <td>4.283435e-02</td>\n      <td>5</td>\n      <td>9.616255e-06</td>\n      <td>-3.264027e-06</td>\n    </tr>\n    <tr>\n      <th>issue_date</th>\n      <td>2.803381e-06</td>\n      <td>1.863798e-06</td>\n      <td>1.410891e-02</td>\n      <td>5</td>\n      <td>6.640967e-06</td>\n      <td>-1.034205e-06</td>\n    </tr>\n    <tr>\n      <th>recircle_b</th>\n      <td>2.393395e-06</td>\n      <td>2.015956e-06</td>\n      <td>2.835095e-02</td>\n      <td>5</td>\n      <td>6.544277e-06</td>\n      <td>-1.757487e-06</td>\n    </tr>\n    <tr>\n      <th>f4</th>\n      <td>1.020738e-06</td>\n      <td>1.362018e-06</td>\n      <td>8.454522e-02</td>\n      <td>5</td>\n      <td>3.825152e-06</td>\n      <td>-1.783675e-06</td>\n    </tr>\n    <tr>\n      <th>post_code</th>\n      <td>7.427264e-07</td>\n      <td>7.963863e-07</td>\n      <td>5.268844e-02</td>\n      <td>5</td>\n      <td>2.382497e-06</td>\n      <td>-8.970440e-07</td>\n    </tr>\n    <tr>\n      <th>feature_month</th>\n      <td>6.861349e-07</td>\n      <td>5.903356e-07</td>\n      <td>3.005772e-02</td>\n      <td>5</td>\n      <td>1.901644e-06</td>\n      <td>-5.293743e-07</td>\n    </tr>\n    <tr>\n      <th>f2</th>\n      <td>6.839563e-07</td>\n      <td>9.601208e-07</td>\n      <td>9.320135e-02</td>\n      <td>5</td>\n      <td>2.660858e-06</td>\n      <td>-1.292946e-06</td>\n    </tr>\n    <tr>\n      <th>monthly_payment</th>\n      <td>6.247603e-07</td>\n      <td>5.038558e-07</td>\n      <td>2.509778e-02</td>\n      <td>5</td>\n      <td>1.662206e-06</td>\n      <td>-4.126858e-07</td>\n    </tr>\n    <tr>\n      <th>pub_dero_bankrup</th>\n      <td>5.716363e-07</td>\n      <td>6.733469e-07</td>\n      <td>6.524688e-02</td>\n      <td>5</td>\n      <td>1.958067e-06</td>\n      <td>-8.147941e-07</td>\n    </tr>\n    <tr>\n      <th>industry</th>\n      <td>3.402198e-07</td>\n      <td>4.638939e-07</td>\n      <td>8.818136e-02</td>\n      <td>5</td>\n      <td>1.295384e-06</td>\n      <td>-6.149442e-07</td>\n    </tr>\n    <tr>\n      <th>f3</th>\n      <td>2.833432e-07</td>\n      <td>4.891896e-07</td>\n      <td>1.324812e-01</td>\n      <td>5</td>\n      <td>1.290591e-06</td>\n      <td>-7.239050e-07</td>\n    </tr>\n    <tr>\n      <th>use</th>\n      <td>2.797220e-07</td>\n      <td>9.813180e-07</td>\n      <td>2.792650e-01</td>\n      <td>5</td>\n      <td>2.300269e-06</td>\n      <td>-1.740825e-06</td>\n    </tr>\n    <tr>\n      <th>new_work_year</th>\n      <td>2.282116e-07</td>\n      <td>2.369969e-07</td>\n      <td>4.881642e-02</td>\n      <td>5</td>\n      <td>7.161915e-07</td>\n      <td>-2.597683e-07</td>\n    </tr>\n    <tr>\n      <th>employer_type</th>\n      <td>2.281592e-07</td>\n      <td>1.275802e-07</td>\n      <td>8.072489e-03</td>\n      <td>5</td>\n      <td>4.908486e-07</td>\n      <td>-3.453028e-08</td>\n    </tr>\n    <tr>\n      <th>early_return_amount_3mon</th>\n      <td>2.253974e-07</td>\n      <td>3.706516e-07</td>\n      <td>1.227492e-01</td>\n      <td>5</td>\n      <td>9.885741e-07</td>\n      <td>-5.377794e-07</td>\n    </tr>\n    <tr>\n      <th>year_of_loan</th>\n      <td>1.695112e-07</td>\n      <td>5.505062e-07</td>\n      <td>2.644872e-01</td>\n      <td>5</td>\n      <td>1.303011e-06</td>\n      <td>-9.639886e-07</td>\n    </tr>\n    <tr>\n      <th>region</th>\n      <td>1.147964e-07</td>\n      <td>2.566925e-07</td>\n      <td>1.869505e-01</td>\n      <td>5</td>\n      <td>6.433297e-07</td>\n      <td>-4.137370e-07</td>\n    </tr>\n    <tr>\n      <th>censor_status</th>\n      <td>5.784093e-08</td>\n      <td>1.293363e-07</td>\n      <td>1.869505e-01</td>\n      <td>5</td>\n      <td>3.241461e-07</td>\n      <td>-2.084642e-07</td>\n    </tr>\n    <tr>\n      <th>title</th>\n      <td>5.648626e-08</td>\n      <td>1.263071e-07</td>\n      <td>1.869505e-01</td>\n      <td>5</td>\n      <td>3.165544e-07</td>\n      <td>-2.035818e-07</td>\n    </tr>\n    <tr>\n      <th>initial_list_status</th>\n      <td>5.648626e-08</td>\n      <td>1.263071e-07</td>\n      <td>1.869505e-01</td>\n      <td>5</td>\n      <td>3.165544e-07</td>\n      <td>-2.035818e-07</td>\n    </tr>\n    <tr>\n      <th>house_exist</th>\n      <td>-9.119198e-10</td>\n      <td>2.013250e-07</td>\n      <td>5.037981e-01</td>\n      <td>5</td>\n      <td>4.136191e-07</td>\n      <td>-4.154429e-07</td>\n    </tr>\n    <tr>\n      <th>class</th>\n      <td>-5.739818e-08</td>\n      <td>1.283462e-07</td>\n      <td>8.130495e-01</td>\n      <td>5</td>\n      <td>2.068685e-07</td>\n      <td>-3.216648e-07</td>\n    </tr>\n    <tr>\n      <th>del_in_18month</th>\n      <td>-5.831010e-08</td>\n      <td>3.131382e-07</td>\n      <td>6.507489e-01</td>\n      <td>5</td>\n      <td>5.864459e-07</td>\n      <td>-7.030661e-07</td>\n    </tr>\n  </tbody>\n</table>\n</div>"
     },
     "execution_count": 143,
     "metadata": {},
     "output_type": "execute_result"
    }
   ],
   "source": [
    "predictor_p_i.feature_importance(merge_data.head(12000))"
   ],
   "metadata": {
    "collapsed": false,
    "ExecuteTime": {
     "end_time": "2024-05-07T19:05:22.746577500Z",
     "start_time": "2024-05-07T19:05:18.661163500Z"
    }
   },
   "id": "ef327ff5e22dd00f"
  },
  {
   "cell_type": "code",
   "execution_count": 144,
   "outputs": [],
   "source": [
    "test_inter_data=inter_data.drop(columns=\"target\").tail(740000)"
   ],
   "metadata": {
    "collapsed": false,
    "ExecuteTime": {
     "end_time": "2024-05-07T19:05:24.251679500Z",
     "start_time": "2024-05-07T19:05:24.161707Z"
    }
   },
   "id": "82b2d4370ea66b"
  },
  {
   "cell_type": "code",
   "execution_count": 145,
   "outputs": [],
   "source": [
    "pred_y = predictor_p_i.predict_proba(test_inter_data)"
   ],
   "metadata": {
    "collapsed": false,
    "ExecuteTime": {
     "end_time": "2024-05-07T19:05:30.085554500Z",
     "start_time": "2024-05-07T19:05:26.494563200Z"
    }
   },
   "id": "c6af80d810380b7e"
  },
  {
   "cell_type": "code",
   "execution_count": 146,
   "outputs": [
    {
     "data": {
      "text/plain": "        total_loan  year_of_loan  interest  monthly_payment  class  \\\n10258     9.386476             3     15.61         6.035386      3   \n10267     7.937732             3     14.85         4.583538      2   \n10497     8.657129             3     21.49         5.389483      3   \n10547     8.006701             3     12.59         4.620059      2   \n11039     9.798183             3     10.16         6.368479      1   \n...            ...           ...       ...              ...    ...   \n749795    7.313887             3     10.99         3.914221      1   \n749839    9.729194             5     16.59         6.027869      3   \n749920    9.210440             3     14.08         5.838226      2   \n749924    9.862718             3      7.90         6.399892      0   \n749960    8.699681             3     13.98         5.327925      2   \n\n        employer_type  industry  house_exist  censor_status  issue_date  ...  \\\n10258               1        11            0              1  2015/06/01  ...   \n10267               3         7            0              2  2015/12/01  ...   \n10497               4         3            1              2  2016/08/01  ...   \n10547               3        13            1              2  2015/12/01  ...   \n11039               4        13            1              0  2013/07/01  ...   \n...               ...       ...          ...            ...         ...  ...   \n749795              3        11            2              0  2016/10/01  ...   \n749839              3         8            1              0  2016/01/01  ...   \n749920              4         2            1              1  2017/11/01  ...   \n749924              0         1            2              0  2014/02/01  ...   \n749960              4         4            1              0  2014/10/01  ...   \n\n         f0   f1   f2    f3    f4  isDefault  new_work_year  feature_year  \\\n10258   4.0  0.0  3.0  10.0   8.0          1              9          1995   \n10267   7.0  0.0  2.0  16.0   8.0          0             10          2001   \n10497   5.0  0.0  1.0  11.0   5.0          1             10          2003   \n10547   3.0  0.0  4.0  18.0  12.0          0             10          1998   \n11039   3.0  0.0  6.0  11.0  10.0          0             10          1994   \n...     ...  ...  ...   ...   ...        ...            ...           ...   \n749795  3.0  0.0  6.0  30.0  10.0          0             10          2004   \n749839  5.0  0.0  4.0  10.0   6.0          1              8          2001   \n749920  5.0  0.0  3.0   7.0   5.0          0              1          2008   \n749924  5.0  0.0  5.0  29.0  19.0          0              5          1999   \n749960  4.0  0.0  1.0   6.0   4.0          1              0          2002   \n\n        feature_month    pred_y  \n10258              11  0.000915  \n10267               7  0.010539  \n10497              10  0.073225  \n10547               9  0.060726  \n11039              12  0.011659  \n...               ...       ...  \n749795             11  0.000718  \n749839              3  0.004823  \n749920              1  0.011470  \n749924              9  0.028884  \n749960              9  0.017365  \n\n[7673 rows x 35 columns]",
      "text/html": "<div>\n<style scoped>\n    .dataframe tbody tr th:only-of-type {\n        vertical-align: middle;\n    }\n\n    .dataframe tbody tr th {\n        vertical-align: top;\n    }\n\n    .dataframe thead th {\n        text-align: right;\n    }\n</style>\n<table border=\"1\" class=\"dataframe\">\n  <thead>\n    <tr style=\"text-align: right;\">\n      <th></th>\n      <th>total_loan</th>\n      <th>year_of_loan</th>\n      <th>interest</th>\n      <th>monthly_payment</th>\n      <th>class</th>\n      <th>employer_type</th>\n      <th>industry</th>\n      <th>house_exist</th>\n      <th>censor_status</th>\n      <th>issue_date</th>\n      <th>...</th>\n      <th>f0</th>\n      <th>f1</th>\n      <th>f2</th>\n      <th>f3</th>\n      <th>f4</th>\n      <th>isDefault</th>\n      <th>new_work_year</th>\n      <th>feature_year</th>\n      <th>feature_month</th>\n      <th>pred_y</th>\n    </tr>\n  </thead>\n  <tbody>\n    <tr>\n      <th>10258</th>\n      <td>9.386476</td>\n      <td>3</td>\n      <td>15.61</td>\n      <td>6.035386</td>\n      <td>3</td>\n      <td>1</td>\n      <td>11</td>\n      <td>0</td>\n      <td>1</td>\n      <td>2015/06/01</td>\n      <td>...</td>\n      <td>4.0</td>\n      <td>0.0</td>\n      <td>3.0</td>\n      <td>10.0</td>\n      <td>8.0</td>\n      <td>1</td>\n      <td>9</td>\n      <td>1995</td>\n      <td>11</td>\n      <td>0.000915</td>\n    </tr>\n    <tr>\n      <th>10267</th>\n      <td>7.937732</td>\n      <td>3</td>\n      <td>14.85</td>\n      <td>4.583538</td>\n      <td>2</td>\n      <td>3</td>\n      <td>7</td>\n      <td>0</td>\n      <td>2</td>\n      <td>2015/12/01</td>\n      <td>...</td>\n      <td>7.0</td>\n      <td>0.0</td>\n      <td>2.0</td>\n      <td>16.0</td>\n      <td>8.0</td>\n      <td>0</td>\n      <td>10</td>\n      <td>2001</td>\n      <td>7</td>\n      <td>0.010539</td>\n    </tr>\n    <tr>\n      <th>10497</th>\n      <td>8.657129</td>\n      <td>3</td>\n      <td>21.49</td>\n      <td>5.389483</td>\n      <td>3</td>\n      <td>4</td>\n      <td>3</td>\n      <td>1</td>\n      <td>2</td>\n      <td>2016/08/01</td>\n      <td>...</td>\n      <td>5.0</td>\n      <td>0.0</td>\n      <td>1.0</td>\n      <td>11.0</td>\n      <td>5.0</td>\n      <td>1</td>\n      <td>10</td>\n      <td>2003</td>\n      <td>10</td>\n      <td>0.073225</td>\n    </tr>\n    <tr>\n      <th>10547</th>\n      <td>8.006701</td>\n      <td>3</td>\n      <td>12.59</td>\n      <td>4.620059</td>\n      <td>2</td>\n      <td>3</td>\n      <td>13</td>\n      <td>1</td>\n      <td>2</td>\n      <td>2015/12/01</td>\n      <td>...</td>\n      <td>3.0</td>\n      <td>0.0</td>\n      <td>4.0</td>\n      <td>18.0</td>\n      <td>12.0</td>\n      <td>0</td>\n      <td>10</td>\n      <td>1998</td>\n      <td>9</td>\n      <td>0.060726</td>\n    </tr>\n    <tr>\n      <th>11039</th>\n      <td>9.798183</td>\n      <td>3</td>\n      <td>10.16</td>\n      <td>6.368479</td>\n      <td>1</td>\n      <td>4</td>\n      <td>13</td>\n      <td>1</td>\n      <td>0</td>\n      <td>2013/07/01</td>\n      <td>...</td>\n      <td>3.0</td>\n      <td>0.0</td>\n      <td>6.0</td>\n      <td>11.0</td>\n      <td>10.0</td>\n      <td>0</td>\n      <td>10</td>\n      <td>1994</td>\n      <td>12</td>\n      <td>0.011659</td>\n    </tr>\n    <tr>\n      <th>...</th>\n      <td>...</td>\n      <td>...</td>\n      <td>...</td>\n      <td>...</td>\n      <td>...</td>\n      <td>...</td>\n      <td>...</td>\n      <td>...</td>\n      <td>...</td>\n      <td>...</td>\n      <td>...</td>\n      <td>...</td>\n      <td>...</td>\n      <td>...</td>\n      <td>...</td>\n      <td>...</td>\n      <td>...</td>\n      <td>...</td>\n      <td>...</td>\n      <td>...</td>\n      <td>...</td>\n    </tr>\n    <tr>\n      <th>749795</th>\n      <td>7.313887</td>\n      <td>3</td>\n      <td>10.99</td>\n      <td>3.914221</td>\n      <td>1</td>\n      <td>3</td>\n      <td>11</td>\n      <td>2</td>\n      <td>0</td>\n      <td>2016/10/01</td>\n      <td>...</td>\n      <td>3.0</td>\n      <td>0.0</td>\n      <td>6.0</td>\n      <td>30.0</td>\n      <td>10.0</td>\n      <td>0</td>\n      <td>10</td>\n      <td>2004</td>\n      <td>11</td>\n      <td>0.000718</td>\n    </tr>\n    <tr>\n      <th>749839</th>\n      <td>9.729194</td>\n      <td>5</td>\n      <td>16.59</td>\n      <td>6.027869</td>\n      <td>3</td>\n      <td>3</td>\n      <td>8</td>\n      <td>1</td>\n      <td>0</td>\n      <td>2016/01/01</td>\n      <td>...</td>\n      <td>5.0</td>\n      <td>0.0</td>\n      <td>4.0</td>\n      <td>10.0</td>\n      <td>6.0</td>\n      <td>1</td>\n      <td>8</td>\n      <td>2001</td>\n      <td>3</td>\n      <td>0.004823</td>\n    </tr>\n    <tr>\n      <th>749920</th>\n      <td>9.210440</td>\n      <td>3</td>\n      <td>14.08</td>\n      <td>5.838226</td>\n      <td>2</td>\n      <td>4</td>\n      <td>2</td>\n      <td>1</td>\n      <td>1</td>\n      <td>2017/11/01</td>\n      <td>...</td>\n      <td>5.0</td>\n      <td>0.0</td>\n      <td>3.0</td>\n      <td>7.0</td>\n      <td>5.0</td>\n      <td>0</td>\n      <td>1</td>\n      <td>2008</td>\n      <td>1</td>\n      <td>0.011470</td>\n    </tr>\n    <tr>\n      <th>749924</th>\n      <td>9.862718</td>\n      <td>3</td>\n      <td>7.90</td>\n      <td>6.399892</td>\n      <td>0</td>\n      <td>0</td>\n      <td>1</td>\n      <td>2</td>\n      <td>0</td>\n      <td>2014/02/01</td>\n      <td>...</td>\n      <td>5.0</td>\n      <td>0.0</td>\n      <td>5.0</td>\n      <td>29.0</td>\n      <td>19.0</td>\n      <td>0</td>\n      <td>5</td>\n      <td>1999</td>\n      <td>9</td>\n      <td>0.028884</td>\n    </tr>\n    <tr>\n      <th>749960</th>\n      <td>8.699681</td>\n      <td>3</td>\n      <td>13.98</td>\n      <td>5.327925</td>\n      <td>2</td>\n      <td>4</td>\n      <td>4</td>\n      <td>1</td>\n      <td>0</td>\n      <td>2014/10/01</td>\n      <td>...</td>\n      <td>4.0</td>\n      <td>0.0</td>\n      <td>1.0</td>\n      <td>6.0</td>\n      <td>4.0</td>\n      <td>1</td>\n      <td>0</td>\n      <td>2002</td>\n      <td>9</td>\n      <td>0.017365</td>\n    </tr>\n  </tbody>\n</table>\n<p>7673 rows × 35 columns</p>\n</div>"
     },
     "execution_count": 146,
     "metadata": {},
     "output_type": "execute_result"
    }
   ],
   "source": [
    "test_inter_data[\"pred_y\"]=pred_y[1]\n",
    "add_to_public=test_inter_data[test_inter_data[\"pred_y\"]<0.08]\n",
    "add_to_public"
   ],
   "metadata": {
    "collapsed": false,
    "ExecuteTime": {
     "end_time": "2024-05-07T19:05:32.146583200Z",
     "start_time": "2024-05-07T19:05:32.100092300Z"
    }
   },
   "id": "963065bac7597ba8"
  },
  {
   "cell_type": "code",
   "execution_count": 147,
   "outputs": [
    {
     "data": {
      "text/plain": "       total_loan  year_of_loan  interest  monthly_payment  class  \\\n0       10.367825             3    11.466         7.069798      2   \n1       10.239996             5    16.841         6.509797      2   \n2        9.756942             3     8.900         6.404104      0   \n3        9.903538             3     4.788         6.402415      0   \n4        9.633889             3    12.790         6.155516      2   \n...           ...           ...       ...              ...    ...   \n17668    7.313887             3    10.990         3.914221      1   \n17669    9.729194             5    16.590         6.027869      3   \n17670    9.210440             3    14.080         5.838226      2   \n17671    9.862718             3     7.900         6.399892      0   \n17672    8.699681             3    13.980         5.327925      2   \n\n       employer_type  industry  house_exist  censor_status  issue_date  ...  \\\n0                  3        13            0              1   2016/10/1  ...   \n1                  3        13            0              2    2013/6/1  ...   \n2                  3         3            1              0    2014/1/1  ...   \n3                  1        10            0              1    2015/7/1  ...   \n4                  3         2            2              1    2016/7/1  ...   \n...              ...       ...          ...            ...         ...  ...   \n17668              3        11            2              0  2016/10/01  ...   \n17669              3         8            1              0  2016/01/01  ...   \n17670              4         2            1              1  2017/11/01  ...   \n17671              0         1            2              0  2014/02/01  ...   \n17672              4         4            1              0  2014/10/01  ...   \n\n         f2    f3    f4  early_return  early_return_amount  \\\n0       4.0   5.0   4.0             3             9.203114   \n1       4.0  45.0  22.0             0             0.000000   \n2       6.0  28.0  19.0             0             0.000000   \n3      10.0  15.0   9.0             0             0.000000   \n4       6.0  15.0   4.0             0             0.000000   \n...     ...   ...   ...           ...                  ...   \n17668   6.0  30.0  10.0             4             6.364751   \n17669   4.0  10.0   6.0             0             0.000000   \n17670   3.0   7.0   5.0             5             6.545350   \n17671   5.0  29.0  19.0             0             0.000000   \n17672   1.0   6.0   4.0             0             0.000000   \n\n       early_return_amount_3mon  isDefault  new_work_year  feature_year  \\\n0                      0.000000          0              3          2001   \n1                      0.000000          0             10          1990   \n2                      0.000000          0             10          1991   \n3                      0.000000          0              6          2001   \n4                      0.000000          0              0          2002   \n...                         ...        ...            ...           ...   \n17668                  5.788144          0             10          2004   \n17669                  0.000000          1              8          2001   \n17670                  5.943009          0              1          2008   \n17671                  0.000000          0              5          1999   \n17672                  0.000000          1              0          2002   \n\n       feature_month  \n0                 12  \n1                  4  \n2                 10  \n3                  6  \n4                  5  \n...              ...  \n17668             11  \n17669              3  \n17670              1  \n17671              9  \n17672              9  \n\n[17673 rows x 34 columns]",
      "text/html": "<div>\n<style scoped>\n    .dataframe tbody tr th:only-of-type {\n        vertical-align: middle;\n    }\n\n    .dataframe tbody tr th {\n        vertical-align: top;\n    }\n\n    .dataframe thead th {\n        text-align: right;\n    }\n</style>\n<table border=\"1\" class=\"dataframe\">\n  <thead>\n    <tr style=\"text-align: right;\">\n      <th></th>\n      <th>total_loan</th>\n      <th>year_of_loan</th>\n      <th>interest</th>\n      <th>monthly_payment</th>\n      <th>class</th>\n      <th>employer_type</th>\n      <th>industry</th>\n      <th>house_exist</th>\n      <th>censor_status</th>\n      <th>issue_date</th>\n      <th>...</th>\n      <th>f2</th>\n      <th>f3</th>\n      <th>f4</th>\n      <th>early_return</th>\n      <th>early_return_amount</th>\n      <th>early_return_amount_3mon</th>\n      <th>isDefault</th>\n      <th>new_work_year</th>\n      <th>feature_year</th>\n      <th>feature_month</th>\n    </tr>\n  </thead>\n  <tbody>\n    <tr>\n      <th>0</th>\n      <td>10.367825</td>\n      <td>3</td>\n      <td>11.466</td>\n      <td>7.069798</td>\n      <td>2</td>\n      <td>3</td>\n      <td>13</td>\n      <td>0</td>\n      <td>1</td>\n      <td>2016/10/1</td>\n      <td>...</td>\n      <td>4.0</td>\n      <td>5.0</td>\n      <td>4.0</td>\n      <td>3</td>\n      <td>9.203114</td>\n      <td>0.000000</td>\n      <td>0</td>\n      <td>3</td>\n      <td>2001</td>\n      <td>12</td>\n    </tr>\n    <tr>\n      <th>1</th>\n      <td>10.239996</td>\n      <td>5</td>\n      <td>16.841</td>\n      <td>6.509797</td>\n      <td>2</td>\n      <td>3</td>\n      <td>13</td>\n      <td>0</td>\n      <td>2</td>\n      <td>2013/6/1</td>\n      <td>...</td>\n      <td>4.0</td>\n      <td>45.0</td>\n      <td>22.0</td>\n      <td>0</td>\n      <td>0.000000</td>\n      <td>0.000000</td>\n      <td>0</td>\n      <td>10</td>\n      <td>1990</td>\n      <td>4</td>\n    </tr>\n    <tr>\n      <th>2</th>\n      <td>9.756942</td>\n      <td>3</td>\n      <td>8.900</td>\n      <td>6.404104</td>\n      <td>0</td>\n      <td>3</td>\n      <td>3</td>\n      <td>1</td>\n      <td>0</td>\n      <td>2014/1/1</td>\n      <td>...</td>\n      <td>6.0</td>\n      <td>28.0</td>\n      <td>19.0</td>\n      <td>0</td>\n      <td>0.000000</td>\n      <td>0.000000</td>\n      <td>0</td>\n      <td>10</td>\n      <td>1991</td>\n      <td>10</td>\n    </tr>\n    <tr>\n      <th>3</th>\n      <td>9.903538</td>\n      <td>3</td>\n      <td>4.788</td>\n      <td>6.402415</td>\n      <td>0</td>\n      <td>1</td>\n      <td>10</td>\n      <td>0</td>\n      <td>1</td>\n      <td>2015/7/1</td>\n      <td>...</td>\n      <td>10.0</td>\n      <td>15.0</td>\n      <td>9.0</td>\n      <td>0</td>\n      <td>0.000000</td>\n      <td>0.000000</td>\n      <td>0</td>\n      <td>6</td>\n      <td>2001</td>\n      <td>6</td>\n    </tr>\n    <tr>\n      <th>4</th>\n      <td>9.633889</td>\n      <td>3</td>\n      <td>12.790</td>\n      <td>6.155516</td>\n      <td>2</td>\n      <td>3</td>\n      <td>2</td>\n      <td>2</td>\n      <td>1</td>\n      <td>2016/7/1</td>\n      <td>...</td>\n      <td>6.0</td>\n      <td>15.0</td>\n      <td>4.0</td>\n      <td>0</td>\n      <td>0.000000</td>\n      <td>0.000000</td>\n      <td>0</td>\n      <td>0</td>\n      <td>2002</td>\n      <td>5</td>\n    </tr>\n    <tr>\n      <th>...</th>\n      <td>...</td>\n      <td>...</td>\n      <td>...</td>\n      <td>...</td>\n      <td>...</td>\n      <td>...</td>\n      <td>...</td>\n      <td>...</td>\n      <td>...</td>\n      <td>...</td>\n      <td>...</td>\n      <td>...</td>\n      <td>...</td>\n      <td>...</td>\n      <td>...</td>\n      <td>...</td>\n      <td>...</td>\n      <td>...</td>\n      <td>...</td>\n      <td>...</td>\n      <td>...</td>\n    </tr>\n    <tr>\n      <th>17668</th>\n      <td>7.313887</td>\n      <td>3</td>\n      <td>10.990</td>\n      <td>3.914221</td>\n      <td>1</td>\n      <td>3</td>\n      <td>11</td>\n      <td>2</td>\n      <td>0</td>\n      <td>2016/10/01</td>\n      <td>...</td>\n      <td>6.0</td>\n      <td>30.0</td>\n      <td>10.0</td>\n      <td>4</td>\n      <td>6.364751</td>\n      <td>5.788144</td>\n      <td>0</td>\n      <td>10</td>\n      <td>2004</td>\n      <td>11</td>\n    </tr>\n    <tr>\n      <th>17669</th>\n      <td>9.729194</td>\n      <td>5</td>\n      <td>16.590</td>\n      <td>6.027869</td>\n      <td>3</td>\n      <td>3</td>\n      <td>8</td>\n      <td>1</td>\n      <td>0</td>\n      <td>2016/01/01</td>\n      <td>...</td>\n      <td>4.0</td>\n      <td>10.0</td>\n      <td>6.0</td>\n      <td>0</td>\n      <td>0.000000</td>\n      <td>0.000000</td>\n      <td>1</td>\n      <td>8</td>\n      <td>2001</td>\n      <td>3</td>\n    </tr>\n    <tr>\n      <th>17670</th>\n      <td>9.210440</td>\n      <td>3</td>\n      <td>14.080</td>\n      <td>5.838226</td>\n      <td>2</td>\n      <td>4</td>\n      <td>2</td>\n      <td>1</td>\n      <td>1</td>\n      <td>2017/11/01</td>\n      <td>...</td>\n      <td>3.0</td>\n      <td>7.0</td>\n      <td>5.0</td>\n      <td>5</td>\n      <td>6.545350</td>\n      <td>5.943009</td>\n      <td>0</td>\n      <td>1</td>\n      <td>2008</td>\n      <td>1</td>\n    </tr>\n    <tr>\n      <th>17671</th>\n      <td>9.862718</td>\n      <td>3</td>\n      <td>7.900</td>\n      <td>6.399892</td>\n      <td>0</td>\n      <td>0</td>\n      <td>1</td>\n      <td>2</td>\n      <td>0</td>\n      <td>2014/02/01</td>\n      <td>...</td>\n      <td>5.0</td>\n      <td>29.0</td>\n      <td>19.0</td>\n      <td>0</td>\n      <td>0.000000</td>\n      <td>0.000000</td>\n      <td>0</td>\n      <td>5</td>\n      <td>1999</td>\n      <td>9</td>\n    </tr>\n    <tr>\n      <th>17672</th>\n      <td>8.699681</td>\n      <td>3</td>\n      <td>13.980</td>\n      <td>5.327925</td>\n      <td>2</td>\n      <td>4</td>\n      <td>4</td>\n      <td>1</td>\n      <td>0</td>\n      <td>2014/10/01</td>\n      <td>...</td>\n      <td>1.0</td>\n      <td>6.0</td>\n      <td>4.0</td>\n      <td>0</td>\n      <td>0.000000</td>\n      <td>0.000000</td>\n      <td>1</td>\n      <td>0</td>\n      <td>2002</td>\n      <td>9</td>\n    </tr>\n  </tbody>\n</table>\n<p>17673 rows × 34 columns</p>\n</div>"
     },
     "execution_count": 147,
     "metadata": {},
     "output_type": "execute_result"
    }
   ],
   "source": [
    "\n",
    "add_to_public=add_to_public.drop(columns=\"pred_y\")\n",
    "pub_data=pub_data.drop(columns=\"target\")\n",
    "train_data=pd.concat([pub_data, add_to_public], ignore_index=True)\n",
    "train_data\n"
   ],
   "metadata": {
    "collapsed": false,
    "ExecuteTime": {
     "end_time": "2024-05-07T19:05:42.458645400Z",
     "start_time": "2024-05-07T19:05:42.418940300Z"
    }
   },
   "id": "e5070e168df8c909"
  },
  {
   "cell_type": "code",
   "execution_count": 150,
   "outputs": [
    {
     "name": "stderr",
     "output_type": "stream",
     "text": [
      "No path specified. Models will be saved in: \"AutogluonModels\\ag-20240507_190807\"\n",
      "Presets specified: ['medium_quality']\n",
      "Stack configuration (auto_stack=True): num_stack_levels=0, num_bag_folds=8, num_bag_sets=1\n",
      "Beginning AutoGluon training ...\n",
      "AutoGluon will save models to \"AutogluonModels\\ag-20240507_190807\"\n",
      "=================== System Info ===================\n",
      "AutoGluon Version:  1.1.0\n",
      "Python Version:     3.9.12\n",
      "Operating System:   Windows\n",
      "Platform Machine:   AMD64\n",
      "Platform Version:   10.0.22631\n",
      "CPU Count:          12\n",
      "Memory Avail:       2.52 GB / 15.86 GB (15.9%)\n",
      "Disk Space Avail:   18.67 GB / 200.00 GB (9.3%)\n",
      "===================================================\n",
      "Train Data Rows:    17673\n",
      "Train Data Columns: 33\n",
      "Label Column:       isDefault\n",
      "AutoGluon infers your prediction problem is: 'binary' (because only two unique label-values observed).\n",
      "\t2 unique label values:  [0, 1]\n",
      "\tIf 'binary' is not the correct problem_type, please manually specify the problem_type parameter during predictor init (You may specify problem_type as one of: ['binary', 'multiclass', 'regression'])\n",
      "Problem Type:       binary\n",
      "Preprocessing data ...\n",
      "Selected class <--> label mapping:  class 1 = 1, class 0 = 0\n",
      "Using Feature Generators to preprocess the data ...\n",
      "Fitting AutoMLPipelineFeatureGenerator...\n",
      "\tAvailable Memory:                    2582.36 MB\n",
      "\tTrain Data (Original)  Memory Usage: 5.28 MB (0.2% of available memory)\n",
      "\tInferring data type of each feature based on column values. Set feature_metadata_in to manually specify special dtypes of the features.\n",
      "\tStage 1 Generators:\n",
      "\t\tFitting AsTypeFeatureGenerator...\n",
      "\t\t\tNote: Converting 2 features to boolean dtype as they only contain 2 unique values.\n",
      "\tStage 2 Generators:\n",
      "\t\tFitting FillNaFeatureGenerator...\n",
      "\tStage 3 Generators:\n",
      "\t\tFitting IdentityFeatureGenerator...\n",
      "\t\tFitting DatetimeFeatureGenerator...\n",
      "\tStage 4 Generators:\n",
      "\t\tFitting DropUniqueFeatureGenerator...\n",
      "\tStage 5 Generators:\n",
      "\t\tFitting DropDuplicatesFeatureGenerator...\n",
      "\tUseless Original Features (Count: 1): ['policy_code']\n",
      "\t\tThese features carry no predictive signal and should be manually investigated.\n",
      "\t\tThis is typically a feature which has the same value for all rows.\n",
      "\t\tThese features do not need to be present at inference time.\n",
      "\tTypes of features in original data (raw dtype, special dtypes):\n",
      "\t\t('float', [])                      : 16 | ['total_loan', 'interest', 'monthly_payment', 'debt_loan_ratio', 'scoring_high', ...]\n",
      "\t\t('int', [])                        : 15 | ['year_of_loan', 'class', 'employer_type', 'industry', 'house_exist', ...]\n",
      "\t\t('object', ['datetime_as_object']) :  1 | ['issue_date']\n",
      "\tTypes of features in processed data (raw dtype, special dtypes):\n",
      "\t\t('float', [])                : 16 | ['total_loan', 'interest', 'monthly_payment', 'debt_loan_ratio', 'scoring_high', ...]\n",
      "\t\t('int', [])                  : 13 | ['class', 'employer_type', 'industry', 'house_exist', 'censor_status', ...]\n",
      "\t\t('int', ['bool'])            :  2 | ['year_of_loan', 'initial_list_status']\n",
      "\t\t('int', ['datetime_as_int']) :  4 | ['issue_date', 'issue_date.year', 'issue_date.month', 'issue_date.dayofweek']\n",
      "\t0.1s = Fit runtime\n",
      "\t32 features in original data used to generate 35 features in processed data.\n",
      "\tTrain Data (Processed) Memory Usage: 4.35 MB (0.2% of available memory)\n",
      "Data preprocessing and feature engineering runtime = 0.13s ...\n",
      "AutoGluon will gauge predictive performance using evaluation metric: 'roc_auc'\n",
      "\tThis metric expects predicted probabilities rather than predicted class labels, so you'll need to use predict_proba() instead of predict()\n",
      "\tTo change this, specify the eval_metric parameter of Predictor()\n",
      "User-specified model hyperparameters to be fit:\n",
      "{\n",
      "\t'GBM': [{'extra_trees': True, 'ag_args': {'name_suffix': 'XT'}}, {}, 'GBMLarge'],\n",
      "\t'CAT': {'iterations': 100, 'learning_rate': 0.1, 'depth': 10},\n",
      "\t'XGB': {'n_estimators': 100, 'learning_rate': 0.1, 'max_depth': 10},\n",
      "}\n",
      "Fitting 5 L1 models ...\n",
      "Fitting model: LightGBMXT_BAG_L1 ...\n",
      "\tFitting 8 child models (S1F1 - S1F8) | Fitting with ParallelLocalFoldFittingStrategy (8 workers, per: cpus=1, gpus=0, memory=1.35%)\n",
      "\t0.8573\t = Validation score   (roc_auc)\n",
      "\t4.4s\t = Training   runtime\n",
      "\t0.34s\t = Validation runtime\n",
      "Fitting model: LightGBM_BAG_L1 ...\n",
      "\tFitting 8 child models (S1F1 - S1F8) | Fitting with ParallelLocalFoldFittingStrategy (8 workers, per: cpus=1, gpus=0, memory=1.45%)\n",
      "\t0.8602\t = Validation score   (roc_auc)\n",
      "\t3.15s\t = Training   runtime\n",
      "\t0.13s\t = Validation runtime\n",
      "Fitting model: CatBoost_BAG_L1 ...\n",
      "\tMemory not enough to fit 8 folds in parallel. Will train 4 folds in parallel instead (Estimated 10.47% memory usage per fold, 41.86%/80.00% total).\n",
      "\tFitting 8 child models (S1F1 - S1F8) | Fitting with ParallelLocalFoldFittingStrategy (4 workers, per: cpus=3, gpus=0, memory=10.47%)\n",
      "\t0.8543\t = Validation score   (roc_auc)\n",
      "\t20.9s\t = Training   runtime\n",
      "\t0.03s\t = Validation runtime\n",
      "Fitting model: XGBoost_BAG_L1 ...\n",
      "\tFitting 8 child models (S1F1 - S1F8) | Fitting with ParallelLocalFoldFittingStrategy (8 workers, per: cpus=1, gpus=0, memory=6.66%)\n",
      "\t0.8555\t = Validation score   (roc_auc)\n",
      "\t4.37s\t = Training   runtime\n",
      "\t0.13s\t = Validation runtime\n",
      "Fitting model: LightGBMLarge_BAG_L1 ...\n",
      "\tFitting 8 child models (S1F1 - S1F8) | Fitting with ParallelLocalFoldFittingStrategy (8 workers, per: cpus=1, gpus=0, memory=2.41%)\n",
      "\t0.8593\t = Validation score   (roc_auc)\n",
      "\t5.12s\t = Training   runtime\n",
      "\t0.21s\t = Validation runtime\n",
      "Fitting model: WeightedEnsemble_L2 ...\n",
      "\tEnsemble Weights: {'LightGBM_BAG_L1': 0.238, 'LightGBMLarge_BAG_L1': 0.238, 'LightGBMXT_BAG_L1': 0.19, 'XGBoost_BAG_L1': 0.19, 'CatBoost_BAG_L1': 0.143}\n",
      "\t0.8631\t = Validation score   (roc_auc)\n",
      "\t0.26s\t = Training   runtime\n",
      "\t0.0s\t = Validation runtime\n",
      "AutoGluon training complete, total runtime = 54.99s ... Best model: \"WeightedEnsemble_L2\"\n",
      "TabularPredictor saved. To load, use: predictor = TabularPredictor.load(\"AutogluonModels\\ag-20240507_190807\")\n"
     ]
    }
   ],
   "source": [
    "label = 'isDefault'\n",
    "hyperparameters = {\n",
    "    'GBM': [{'extra_trees': True, 'ag_args': {'name_suffix': 'XT'}}, {}, 'GBMLarge'],\n",
    "    'CAT': {'iterations': 100, 'learning_rate': 0.1, 'depth': 10},\n",
    "    'XGB': {'n_estimators': 100, 'learning_rate': 0.1, 'max_depth': 10}\n",
    "}\n",
    "predictor = TabularPredictor(label=label,eval_metric=\"roc_auc\").fit(train_data, presets='medium_quality',hyperparameters=hyperparameters,auto_stack=True)\n"
   ],
   "metadata": {
    "collapsed": false,
    "ExecuteTime": {
     "end_time": "2024-05-07T19:09:02.290040Z",
     "start_time": "2024-05-07T19:08:07.233047300Z"
    }
   },
   "id": "afba56441432815a"
  },
  {
   "cell_type": "code",
   "execution_count": 151,
   "outputs": [
    {
     "data": {
      "text/plain": "                  model  score_val eval_metric  pred_time_val   fit_time  \\\n0   WeightedEnsemble_L2   0.863073     roc_auc       0.844837  38.193493   \n1       LightGBM_BAG_L1   0.860160     roc_auc       0.131539   3.148246   \n2  LightGBMLarge_BAG_L1   0.859336     roc_auc       0.213552   5.118039   \n3     LightGBMXT_BAG_L1   0.857308     roc_auc       0.335640   4.403401   \n4        XGBoost_BAG_L1   0.855515     roc_auc       0.133060   4.367247   \n5       CatBoost_BAG_L1   0.854322     roc_auc       0.028167  20.900558   \n\n   pred_time_val_marginal  fit_time_marginal  stack_level  can_infer  \\\n0                0.002879           0.256001            2       True   \n1                0.131539           3.148246            1       True   \n2                0.213552           5.118039            1       True   \n3                0.335640           4.403401            1       True   \n4                0.133060           4.367247            1       True   \n5                0.028167          20.900558            1       True   \n\n   fit_order  \n0          6  \n1          2  \n2          5  \n3          1  \n4          4  \n5          3  ",
      "text/html": "<div>\n<style scoped>\n    .dataframe tbody tr th:only-of-type {\n        vertical-align: middle;\n    }\n\n    .dataframe tbody tr th {\n        vertical-align: top;\n    }\n\n    .dataframe thead th {\n        text-align: right;\n    }\n</style>\n<table border=\"1\" class=\"dataframe\">\n  <thead>\n    <tr style=\"text-align: right;\">\n      <th></th>\n      <th>model</th>\n      <th>score_val</th>\n      <th>eval_metric</th>\n      <th>pred_time_val</th>\n      <th>fit_time</th>\n      <th>pred_time_val_marginal</th>\n      <th>fit_time_marginal</th>\n      <th>stack_level</th>\n      <th>can_infer</th>\n      <th>fit_order</th>\n    </tr>\n  </thead>\n  <tbody>\n    <tr>\n      <th>0</th>\n      <td>WeightedEnsemble_L2</td>\n      <td>0.863073</td>\n      <td>roc_auc</td>\n      <td>0.844837</td>\n      <td>38.193493</td>\n      <td>0.002879</td>\n      <td>0.256001</td>\n      <td>2</td>\n      <td>True</td>\n      <td>6</td>\n    </tr>\n    <tr>\n      <th>1</th>\n      <td>LightGBM_BAG_L1</td>\n      <td>0.860160</td>\n      <td>roc_auc</td>\n      <td>0.131539</td>\n      <td>3.148246</td>\n      <td>0.131539</td>\n      <td>3.148246</td>\n      <td>1</td>\n      <td>True</td>\n      <td>2</td>\n    </tr>\n    <tr>\n      <th>2</th>\n      <td>LightGBMLarge_BAG_L1</td>\n      <td>0.859336</td>\n      <td>roc_auc</td>\n      <td>0.213552</td>\n      <td>5.118039</td>\n      <td>0.213552</td>\n      <td>5.118039</td>\n      <td>1</td>\n      <td>True</td>\n      <td>5</td>\n    </tr>\n    <tr>\n      <th>3</th>\n      <td>LightGBMXT_BAG_L1</td>\n      <td>0.857308</td>\n      <td>roc_auc</td>\n      <td>0.335640</td>\n      <td>4.403401</td>\n      <td>0.335640</td>\n      <td>4.403401</td>\n      <td>1</td>\n      <td>True</td>\n      <td>1</td>\n    </tr>\n    <tr>\n      <th>4</th>\n      <td>XGBoost_BAG_L1</td>\n      <td>0.855515</td>\n      <td>roc_auc</td>\n      <td>0.133060</td>\n      <td>4.367247</td>\n      <td>0.133060</td>\n      <td>4.367247</td>\n      <td>1</td>\n      <td>True</td>\n      <td>4</td>\n    </tr>\n    <tr>\n      <th>5</th>\n      <td>CatBoost_BAG_L1</td>\n      <td>0.854322</td>\n      <td>roc_auc</td>\n      <td>0.028167</td>\n      <td>20.900558</td>\n      <td>0.028167</td>\n      <td>20.900558</td>\n      <td>1</td>\n      <td>True</td>\n      <td>3</td>\n    </tr>\n  </tbody>\n</table>\n</div>"
     },
     "execution_count": 151,
     "metadata": {},
     "output_type": "execute_result"
    }
   ],
   "source": [
    "predictor.leaderboard()"
   ],
   "metadata": {
    "collapsed": false,
    "ExecuteTime": {
     "end_time": "2024-05-07T19:10:10.035285400Z",
     "start_time": "2024-05-07T19:10:10.008114Z"
    }
   },
   "id": "c163d54f5732c659"
  },
  {
   "cell_type": "code",
   "execution_count": 152,
   "outputs": [
    {
     "name": "stderr",
     "output_type": "stream",
     "text": [
      "Loaded data from: ./test_public.csv | Columns = 38 / 38 | Rows = 5000 -> 5000\n",
      "C:\\Users\\woczgl\\AppData\\Local\\Temp\\ipykernel_14752\\1738779828.py:8: FutureWarning: A value is trying to be set on a copy of a DataFrame or Series through chained assignment using an inplace method.\n",
      "The behavior will change in pandas 3.0. This inplace method will never work because the intermediate object on which we are setting values always behaves as a copy.\n",
      "\n",
      "For example, when doing 'df[col].method(value, inplace=True)', try using 'df.method({col: value}, inplace=True)' or df[col] = df[col].method(value) instead, to perform the operation inplace on the original object.\n",
      "\n",
      "\n",
      "  df[column].fillna(mean_value, inplace=True)  # 填充缺失值\n",
      "C:\\Users\\woczgl\\AppData\\Local\\Temp\\ipykernel_14752\\1738779828.py:13: FutureWarning: A value is trying to be set on a copy of a DataFrame or Series through chained assignment using an inplace method.\n",
      "The behavior will change in pandas 3.0. This inplace method will never work because the intermediate object on which we are setting values always behaves as a copy.\n",
      "\n",
      "For example, when doing 'df[col].method(value, inplace=True)', try using 'df.method({col: value}, inplace=True)' or df[col] = df[col].method(value) instead, to perform the operation inplace on the original object.\n",
      "\n",
      "\n",
      "  df[column].fillna(mode_value, inplace=True)  # 填充缺失值\n"
     ]
    },
    {
     "data": {
      "text/plain": "      loan_id  user_id  total_loan  year_of_loan  interest  monthly_payment  \\\n0     1000575   200575    7.969672             3    10.791         4.488749   \n1     1028125   228125    8.892024             3     9.990         5.557214   \n2     1010694   210694   10.177189             3    15.763         6.639915   \n3     1026712   226712   10.029764             5    19.305         6.263970   \n4     1002895   202895    9.585103             3     7.139         6.197096   \n...       ...      ...         ...           ...       ...              ...   \n4995  1008856   208856    9.154357             5    12.015         5.217487   \n4996  1016651   216651    8.612685             3     7.970         5.154909   \n4997  1024140   224140   10.327004             3     8.900         6.791323   \n4998  1014316   214316    8.316767             3     6.030         5.031614   \n4999  1012946   212946    9.597524             3     7.970         6.336489   \n\n      class  employer_type  industry  house_exist  ...       f1         f2  \\\n0         1              2         1            0  ...  0.00000  15.000000   \n1         1              4         9            1  ...  0.00000   8.000000   \n2         2              4         1            0  ...  0.00000   4.000000   \n3         3              4        12            0  ...  0.00000  12.000000   \n4         0              1        13            0  ...  0.00000   7.000000   \n...     ...            ...       ...          ...  ...      ...        ...   \n4995      2              3         2            1  ...  0.00088   8.589538   \n4996      0              3         8            1  ...  0.00000   2.000000   \n4997      0              0         8            0  ...  0.00000  17.000000   \n4998      0              3        10            0  ...  0.00000   6.000000   \n4999      0              4         0            1  ...  0.00000   5.000000   \n\n             f3        f4  early_return  early_return_amount  \\\n0      5.000000   4.00000             3             6.651572   \n1     29.000000  14.00000             1             7.546974   \n2     10.000000   6.00000             1             8.643121   \n3     10.000000   8.00000             2             8.476580   \n4     14.000000   9.00000             0             8.165364   \n...         ...       ...           ...                  ...   \n4995  14.703649   8.13204             0             0.000000   \n4996   5.000000   3.00000             3             7.355641   \n4997  20.000000  14.00000             2             8.604654   \n4998  10.000000  10.00000             3             5.411646   \n4999   8.000000   7.00000             3             7.353722   \n\n      early_return_amount_3mon  new_work_year  feature_year  feature_month  \n0                     4.501944              5          2003              3  \n1                     5.391527             10          1999             12  \n2                     7.108433             10          1999              4  \n3                     6.095998             10          1900              7  \n4                     6.477138              1          2007              5  \n...                        ...            ...           ...            ...  \n4995                  0.000000              0          2005              7  \n4996                  0.000000              5          2012              4  \n4997                  7.321117             10          1986             10  \n4998                  3.741691             10          1999              3  \n4999                  5.889517              4          2005              7  \n\n[5000 rows x 39 columns]",
      "text/html": "<div>\n<style scoped>\n    .dataframe tbody tr th:only-of-type {\n        vertical-align: middle;\n    }\n\n    .dataframe tbody tr th {\n        vertical-align: top;\n    }\n\n    .dataframe thead th {\n        text-align: right;\n    }\n</style>\n<table border=\"1\" class=\"dataframe\">\n  <thead>\n    <tr style=\"text-align: right;\">\n      <th></th>\n      <th>loan_id</th>\n      <th>user_id</th>\n      <th>total_loan</th>\n      <th>year_of_loan</th>\n      <th>interest</th>\n      <th>monthly_payment</th>\n      <th>class</th>\n      <th>employer_type</th>\n      <th>industry</th>\n      <th>house_exist</th>\n      <th>...</th>\n      <th>f1</th>\n      <th>f2</th>\n      <th>f3</th>\n      <th>f4</th>\n      <th>early_return</th>\n      <th>early_return_amount</th>\n      <th>early_return_amount_3mon</th>\n      <th>new_work_year</th>\n      <th>feature_year</th>\n      <th>feature_month</th>\n    </tr>\n  </thead>\n  <tbody>\n    <tr>\n      <th>0</th>\n      <td>1000575</td>\n      <td>200575</td>\n      <td>7.969672</td>\n      <td>3</td>\n      <td>10.791</td>\n      <td>4.488749</td>\n      <td>1</td>\n      <td>2</td>\n      <td>1</td>\n      <td>0</td>\n      <td>...</td>\n      <td>0.00000</td>\n      <td>15.000000</td>\n      <td>5.000000</td>\n      <td>4.00000</td>\n      <td>3</td>\n      <td>6.651572</td>\n      <td>4.501944</td>\n      <td>5</td>\n      <td>2003</td>\n      <td>3</td>\n    </tr>\n    <tr>\n      <th>1</th>\n      <td>1028125</td>\n      <td>228125</td>\n      <td>8.892024</td>\n      <td>3</td>\n      <td>9.990</td>\n      <td>5.557214</td>\n      <td>1</td>\n      <td>4</td>\n      <td>9</td>\n      <td>1</td>\n      <td>...</td>\n      <td>0.00000</td>\n      <td>8.000000</td>\n      <td>29.000000</td>\n      <td>14.00000</td>\n      <td>1</td>\n      <td>7.546974</td>\n      <td>5.391527</td>\n      <td>10</td>\n      <td>1999</td>\n      <td>12</td>\n    </tr>\n    <tr>\n      <th>2</th>\n      <td>1010694</td>\n      <td>210694</td>\n      <td>10.177189</td>\n      <td>3</td>\n      <td>15.763</td>\n      <td>6.639915</td>\n      <td>2</td>\n      <td>4</td>\n      <td>1</td>\n      <td>0</td>\n      <td>...</td>\n      <td>0.00000</td>\n      <td>4.000000</td>\n      <td>10.000000</td>\n      <td>6.00000</td>\n      <td>1</td>\n      <td>8.643121</td>\n      <td>7.108433</td>\n      <td>10</td>\n      <td>1999</td>\n      <td>4</td>\n    </tr>\n    <tr>\n      <th>3</th>\n      <td>1026712</td>\n      <td>226712</td>\n      <td>10.029764</td>\n      <td>5</td>\n      <td>19.305</td>\n      <td>6.263970</td>\n      <td>3</td>\n      <td>4</td>\n      <td>12</td>\n      <td>0</td>\n      <td>...</td>\n      <td>0.00000</td>\n      <td>12.000000</td>\n      <td>10.000000</td>\n      <td>8.00000</td>\n      <td>2</td>\n      <td>8.476580</td>\n      <td>6.095998</td>\n      <td>10</td>\n      <td>1900</td>\n      <td>7</td>\n    </tr>\n    <tr>\n      <th>4</th>\n      <td>1002895</td>\n      <td>202895</td>\n      <td>9.585103</td>\n      <td>3</td>\n      <td>7.139</td>\n      <td>6.197096</td>\n      <td>0</td>\n      <td>1</td>\n      <td>13</td>\n      <td>0</td>\n      <td>...</td>\n      <td>0.00000</td>\n      <td>7.000000</td>\n      <td>14.000000</td>\n      <td>9.00000</td>\n      <td>0</td>\n      <td>8.165364</td>\n      <td>6.477138</td>\n      <td>1</td>\n      <td>2007</td>\n      <td>5</td>\n    </tr>\n    <tr>\n      <th>...</th>\n      <td>...</td>\n      <td>...</td>\n      <td>...</td>\n      <td>...</td>\n      <td>...</td>\n      <td>...</td>\n      <td>...</td>\n      <td>...</td>\n      <td>...</td>\n      <td>...</td>\n      <td>...</td>\n      <td>...</td>\n      <td>...</td>\n      <td>...</td>\n      <td>...</td>\n      <td>...</td>\n      <td>...</td>\n      <td>...</td>\n      <td>...</td>\n      <td>...</td>\n      <td>...</td>\n    </tr>\n    <tr>\n      <th>4995</th>\n      <td>1008856</td>\n      <td>208856</td>\n      <td>9.154357</td>\n      <td>5</td>\n      <td>12.015</td>\n      <td>5.217487</td>\n      <td>2</td>\n      <td>3</td>\n      <td>2</td>\n      <td>1</td>\n      <td>...</td>\n      <td>0.00088</td>\n      <td>8.589538</td>\n      <td>14.703649</td>\n      <td>8.13204</td>\n      <td>0</td>\n      <td>0.000000</td>\n      <td>0.000000</td>\n      <td>0</td>\n      <td>2005</td>\n      <td>7</td>\n    </tr>\n    <tr>\n      <th>4996</th>\n      <td>1016651</td>\n      <td>216651</td>\n      <td>8.612685</td>\n      <td>3</td>\n      <td>7.970</td>\n      <td>5.154909</td>\n      <td>0</td>\n      <td>3</td>\n      <td>8</td>\n      <td>1</td>\n      <td>...</td>\n      <td>0.00000</td>\n      <td>2.000000</td>\n      <td>5.000000</td>\n      <td>3.00000</td>\n      <td>3</td>\n      <td>7.355641</td>\n      <td>0.000000</td>\n      <td>5</td>\n      <td>2012</td>\n      <td>4</td>\n    </tr>\n    <tr>\n      <th>4997</th>\n      <td>1024140</td>\n      <td>224140</td>\n      <td>10.327004</td>\n      <td>3</td>\n      <td>8.900</td>\n      <td>6.791323</td>\n      <td>0</td>\n      <td>0</td>\n      <td>8</td>\n      <td>0</td>\n      <td>...</td>\n      <td>0.00000</td>\n      <td>17.000000</td>\n      <td>20.000000</td>\n      <td>14.00000</td>\n      <td>2</td>\n      <td>8.604654</td>\n      <td>7.321117</td>\n      <td>10</td>\n      <td>1986</td>\n      <td>10</td>\n    </tr>\n    <tr>\n      <th>4998</th>\n      <td>1014316</td>\n      <td>214316</td>\n      <td>8.316767</td>\n      <td>3</td>\n      <td>6.030</td>\n      <td>5.031614</td>\n      <td>0</td>\n      <td>3</td>\n      <td>10</td>\n      <td>0</td>\n      <td>...</td>\n      <td>0.00000</td>\n      <td>6.000000</td>\n      <td>10.000000</td>\n      <td>10.00000</td>\n      <td>3</td>\n      <td>5.411646</td>\n      <td>3.741691</td>\n      <td>10</td>\n      <td>1999</td>\n      <td>3</td>\n    </tr>\n    <tr>\n      <th>4999</th>\n      <td>1012946</td>\n      <td>212946</td>\n      <td>9.597524</td>\n      <td>3</td>\n      <td>7.970</td>\n      <td>6.336489</td>\n      <td>0</td>\n      <td>4</td>\n      <td>0</td>\n      <td>1</td>\n      <td>...</td>\n      <td>0.00000</td>\n      <td>5.000000</td>\n      <td>8.000000</td>\n      <td>7.00000</td>\n      <td>3</td>\n      <td>7.353722</td>\n      <td>5.889517</td>\n      <td>4</td>\n      <td>2005</td>\n      <td>7</td>\n    </tr>\n  </tbody>\n</table>\n<p>5000 rows × 39 columns</p>\n</div>"
     },
     "execution_count": 152,
     "metadata": {},
     "output_type": "execute_result"
    }
   ],
   "source": [
    "test_data=TabularDataset('./test_public.csv')\n",
    "mean_test_data=mean_fillna_process(test_data)\n",
    "trans_test_data=transform_to_num(mean_test_data,transform_columns)\n",
    "log_test_data=log_process(trans_test_data,large_val_columns)\n",
    "wy_test_data=get_work_year(log_test_data)\n",
    "te_data=create_feature_process(wy_test_data)\n",
    "te_data"
   ],
   "metadata": {
    "collapsed": false,
    "ExecuteTime": {
     "end_time": "2024-05-07T19:10:25.664673900Z",
     "start_time": "2024-05-07T19:10:25.599213500Z"
    }
   },
   "id": "7d1dbd1db0fc5061"
  },
  {
   "cell_type": "code",
   "execution_count": 153,
   "outputs": [],
   "source": [
    "predict_result= predictor.predict_proba(te_data)\n",
    "df2 = predict_result\n",
    "df = pd.concat([te_data,df2],axis=1)\n",
    "df = df[['loan_id',1]]\n",
    "df = df.rename(columns={'loan_id':'id',1:'isDefault'})\n",
    "df.to_csv('submission.csv')"
   ],
   "metadata": {
    "collapsed": false,
    "ExecuteTime": {
     "end_time": "2024-05-07T19:10:45.846602300Z",
     "start_time": "2024-05-07T19:10:45.211246700Z"
    }
   },
   "id": "e1062e9d948f31ee"
  },
  {
   "cell_type": "code",
   "execution_count": 45,
   "outputs": [
    {
     "name": "stderr",
     "output_type": "stream",
     "text": [
      "Loaded data from: ./train_public.csv | Columns = 39 / 39 | Rows = 10000 -> 10000\n",
      "Loaded data from: ./train_internet.csv | Columns = 42 / 42 | Rows = 750000 -> 750000\n"
     ]
    }
   ],
   "source": [],
   "metadata": {
    "collapsed": false,
    "ExecuteTime": {
     "end_time": "2024-05-06T08:51:59.463738800Z",
     "start_time": "2024-05-06T08:51:45.557325900Z"
    }
   },
   "id": "ed3cae38dcacc3d0"
  },
  {
   "cell_type": "code",
   "execution_count": 84,
   "outputs": [],
   "source": [],
   "metadata": {
    "collapsed": false,
    "ExecuteTime": {
     "end_time": "2024-05-06T11:21:19.689889200Z",
     "start_time": "2024-05-06T11:21:19.676890800Z"
    }
   },
   "id": "95486c47fbe63ad0"
  },
  {
   "cell_type": "code",
   "execution_count": null,
   "outputs": [],
   "source": [],
   "metadata": {
    "collapsed": false
   },
   "id": "c3b57f4e7e8bfe16"
  }
 ],
 "metadata": {
  "kernelspec": {
   "display_name": "Python 3",
   "language": "python",
   "name": "python3"
  },
  "language_info": {
   "codemirror_mode": {
    "name": "ipython",
    "version": 2
   },
   "file_extension": ".py",
   "mimetype": "text/x-python",
   "name": "python",
   "nbconvert_exporter": "python",
   "pygments_lexer": "ipython2",
   "version": "2.7.6"
  }
 },
 "nbformat": 4,
 "nbformat_minor": 5
}
